{
 "cells": [
  {
   "cell_type": "code",
   "execution_count": 22,
   "id": "c0578be5",
   "metadata": {},
   "outputs": [],
   "source": [
    "g=41.788007675463724"
   ]
  },
  {
   "cell_type": "code",
   "execution_count": 1,
   "id": "8448e841",
   "metadata": {},
   "outputs": [],
   "source": [
    "import numpy as np"
   ]
  },
  {
   "cell_type": "code",
   "execution_count": 17,
   "id": "bf8929b4",
   "metadata": {},
   "outputs": [],
   "source": [
    "grados=np.floor(g).astype('int')\n",
    "b=(g-grados)*60\n",
    "minutos=np.floor(b).astype('int')\n",
    "segundos=np.floor((b-minutos)*60).astype('int')"
   ]
  },
  {
   "cell_type": "code",
   "execution_count": 18,
   "id": "72ce603c",
   "metadata": {},
   "outputs": [
    {
     "data": {
      "text/plain": [
       "(31, 47, 16)"
      ]
     },
     "execution_count": 18,
     "metadata": {},
     "output_type": "execute_result"
    }
   ],
   "source": [
    "grados,minutos,segundos"
   ]
  },
  {
   "cell_type": "code",
   "execution_count": 2,
   "id": "fab650b3",
   "metadata": {},
   "outputs": [],
   "source": [
    "def Degree_decimal_to_degree_hexadecimal(degree_decimal):\n",
    "    degree=np.floor(degree_decimal).astype('int')\n",
    "    minute_decimal=(degree_decimal-degree)*60\n",
    "    minute=np.floor(minute_decimal).astype('int')\n",
    "    second=np.floor((minute_decimal-minute)*60).astype('int')\n",
    "    return (degree,minute,second)\n",
    "    "
   ]
  },
  {
   "cell_type": "code",
   "execution_count": 9,
   "id": "42b8798c",
   "metadata": {},
   "outputs": [
    {
     "data": {
      "text/plain": [
       "(array([55]), array([46]), array([23]))"
      ]
     },
     "execution_count": 9,
     "metadata": {},
     "output_type": "execute_result"
    }
   ],
   "source": [
    "Degree_decimal_to_degree_hexadecimal([55.773239])"
   ]
  },
  {
   "cell_type": "code",
   "execution_count": 14,
   "id": "37f5f651",
   "metadata": {},
   "outputs": [
    {
     "data": {
      "text/plain": [
       "30.0"
      ]
     },
     "execution_count": 14,
     "metadata": {},
     "output_type": "execute_result"
    }
   ],
   "source": [
    "np.round(29/15)*15"
   ]
  },
  {
   "cell_type": "code",
   "execution_count": 19,
   "id": "3a0c0af2",
   "metadata": {},
   "outputs": [],
   "source": [
    "def E_mag(mag,m,n,Em,En):\n",
    "    errors=[En,(mag-n)/m*Em,(m*0.1)/np.log(10)*10**((n-mag)/m)]\n",
    "    return np.round(np.sqrt(sum(np.array(errors)**2)),2)"
   ]
  },
  {
   "cell_type": "code",
   "execution_count": 20,
   "id": "89f98221",
   "metadata": {},
   "outputs": [
    {
     "data": {
      "text/plain": [
       "0.08"
      ]
     },
     "execution_count": 20,
     "metadata": {},
     "output_type": "execute_result"
    }
   ],
   "source": [
    "E_mag(20.65,-0.95,20.93,0.1,0.07)"
   ]
  },
  {
   "cell_type": "code",
   "execution_count": 70,
   "id": "e9aeee32",
   "metadata": {},
   "outputs": [],
   "source": [
    "def hacer_zeros_visibles(a):\n",
    "    a=np.round(a,2)\n",
    "    try:\n",
    "        entero,decimal=str(a).split('.')\n",
    "        n=len(decimal)\n",
    "    except:\n",
    "        entero=str(a)\n",
    "        decimal=None\n",
    "        n=0\n",
    "    if n==0:\n",
    "        a=entero+'.00'\n",
    "    elif n==1:\n",
    "        a=entero+'.'+decimal+'0'\n",
    "    else:\n",
    "        a=str(a)\n",
    "    return a\n",
    "\n"
   ]
  },
  {
   "cell_type": "code",
   "execution_count": 78,
   "id": "470f43a1",
   "metadata": {},
   "outputs": [
    {
     "data": {
      "text/plain": [
       "'13.33'"
      ]
     },
     "execution_count": 78,
     "metadata": {},
     "output_type": "execute_result"
    }
   ],
   "source": [
    "hacer_zeros_visibles(13.326)"
   ]
  },
  {
   "cell_type": "code",
   "execution_count": 65,
   "id": "2249123e",
   "metadata": {},
   "outputs": [
    {
     "data": {
      "text/plain": [
       "'3.00'"
      ]
     },
     "execution_count": 65,
     "metadata": {},
     "output_type": "execute_result"
    }
   ],
   "source": [
    "a=1\n",
    "a=np.round(a,2)\n",
    "try:\n",
    "    entero,decimal=str(a).split('.')\n",
    "    n=len(decimal)\n",
    "except:\n",
    "    decimal=None\n",
    "    n=0\n",
    "if n==0:\n",
    "    a=entero+'.00'\n",
    "elif n==1:\n",
    "    a=entero+'.'+decimal+'0'\n",
    "elif n>1:\n",
    "    a=str(a)\n",
    "a\n"
   ]
  },
  {
   "cell_type": "code",
   "execution_count": 18,
   "id": "4e1da106",
   "metadata": {},
   "outputs": [
    {
     "name": "stdout",
     "output_type": "stream",
     "text": [
      "±a\n"
     ]
    }
   ],
   "source": [
    "print(\"\\u00B1\"+'a')"
   ]
  },
  {
   "cell_type": "code",
   "execution_count": 2,
   "id": "e67d9a01",
   "metadata": {},
   "outputs": [
    {
     "name": "stdout",
     "output_type": "stream",
     "text": [
      "Collecting image_slicer\n",
      "  Downloading image_slicer-2.1.1-py2.py3-none-any.whl (8.3 kB)\n",
      "Collecting Pillow==7.2.0 (from image_slicer)\n",
      "  Downloading Pillow-7.2.0-cp38-cp38-win_amd64.whl (2.1 MB)\n",
      "     ---------------------------------------- 2.1/2.1 MB 4.2 MB/s eta 0:00:00\n",
      "Installing collected packages: Pillow, image_slicer\n",
      "  Attempting uninstall: Pillow\n",
      "    Found existing installation: Pillow 9.4.0\n",
      "    Uninstalling Pillow-9.4.0:\n",
      "      Successfully uninstalled Pillow-9.4.0\n",
      "Successfully installed Pillow-7.2.0 image_slicer-2.1.1\n",
      "Note: you may need to restart the kernel to use updated packages.\n"
     ]
    },
    {
     "name": "stderr",
     "output_type": "stream",
     "text": [
      "ERROR: pip's dependency resolver does not currently take into account all the packages that are installed. This behaviour is the source of the following dependency conflicts.\n",
      "imageio 2.26.0 requires pillow>=8.3.2, but you have pillow 7.2.0 which is incompatible.\n"
     ]
    }
   ],
   "source": [
    "pip install image_slicer"
   ]
  },
  {
   "cell_type": "code",
   "execution_count": 2,
   "id": "d6665b8c",
   "metadata": {},
   "outputs": [],
   "source": [
    "import image_slicer"
   ]
  },
  {
   "cell_type": "code",
   "execution_count": 13,
   "id": "e01216af",
   "metadata": {},
   "outputs": [
    {
     "data": {
      "text/plain": [
       "(<Tile #1 - h232v214_01_01.png>,\n",
       " <Tile #2 - h232v214_01_02.png>,\n",
       " <Tile #3 - h232v214_01_03.png>,\n",
       " <Tile #4 - h232v214_01_04.png>,\n",
       " <Tile #5 - h232v214_01_05.png>,\n",
       " <Tile #6 - h232v214_01_06.png>,\n",
       " <Tile #7 - h232v214_01_07.png>,\n",
       " <Tile #8 - h232v214_01_08.png>,\n",
       " <Tile #9 - h232v214_01_09.png>,\n",
       " <Tile #10 - h232v214_01_10.png>,\n",
       " <Tile #11 - h232v214_01_11.png>,\n",
       " <Tile #12 - h232v214_01_12.png>,\n",
       " <Tile #13 - h232v214_01_13.png>,\n",
       " <Tile #14 - h232v214_01_14.png>,\n",
       " <Tile #15 - h232v214_01_15.png>,\n",
       " <Tile #16 - h232v214_01_16.png>,\n",
       " <Tile #17 - h232v214_01_17.png>,\n",
       " <Tile #18 - h232v214_01_18.png>,\n",
       " <Tile #19 - h232v214_01_19.png>,\n",
       " <Tile #20 - h232v214_01_20.png>,\n",
       " <Tile #21 - h232v214_01_21.png>,\n",
       " <Tile #22 - h232v214_01_22.png>,\n",
       " <Tile #23 - h232v214_01_23.png>,\n",
       " <Tile #24 - h232v214_01_24.png>,\n",
       " <Tile #25 - h232v214_01_25.png>,\n",
       " <Tile #26 - h232v214_01_26.png>,\n",
       " <Tile #27 - h232v214_01_27.png>,\n",
       " <Tile #28 - h232v214_01_28.png>,\n",
       " <Tile #29 - h232v214_02_01.png>,\n",
       " <Tile #30 - h232v214_02_02.png>,\n",
       " <Tile #31 - h232v214_02_03.png>,\n",
       " <Tile #32 - h232v214_02_04.png>,\n",
       " <Tile #33 - h232v214_02_05.png>,\n",
       " <Tile #34 - h232v214_02_06.png>,\n",
       " <Tile #35 - h232v214_02_07.png>,\n",
       " <Tile #36 - h232v214_02_08.png>,\n",
       " <Tile #37 - h232v214_02_09.png>,\n",
       " <Tile #38 - h232v214_02_10.png>,\n",
       " <Tile #39 - h232v214_02_11.png>,\n",
       " <Tile #40 - h232v214_02_12.png>,\n",
       " <Tile #41 - h232v214_02_13.png>,\n",
       " <Tile #42 - h232v214_02_14.png>,\n",
       " <Tile #43 - h232v214_02_15.png>,\n",
       " <Tile #44 - h232v214_02_16.png>,\n",
       " <Tile #45 - h232v214_02_17.png>,\n",
       " <Tile #46 - h232v214_02_18.png>,\n",
       " <Tile #47 - h232v214_02_19.png>,\n",
       " <Tile #48 - h232v214_02_20.png>,\n",
       " <Tile #49 - h232v214_02_21.png>,\n",
       " <Tile #50 - h232v214_02_22.png>,\n",
       " <Tile #51 - h232v214_02_23.png>,\n",
       " <Tile #52 - h232v214_02_24.png>,\n",
       " <Tile #53 - h232v214_02_25.png>,\n",
       " <Tile #54 - h232v214_02_26.png>,\n",
       " <Tile #55 - h232v214_02_27.png>,\n",
       " <Tile #56 - h232v214_02_28.png>,\n",
       " <Tile #57 - h232v214_03_01.png>,\n",
       " <Tile #58 - h232v214_03_02.png>,\n",
       " <Tile #59 - h232v214_03_03.png>,\n",
       " <Tile #60 - h232v214_03_04.png>,\n",
       " <Tile #61 - h232v214_03_05.png>,\n",
       " <Tile #62 - h232v214_03_06.png>,\n",
       " <Tile #63 - h232v214_03_07.png>,\n",
       " <Tile #64 - h232v214_03_08.png>,\n",
       " <Tile #65 - h232v214_03_09.png>,\n",
       " <Tile #66 - h232v214_03_10.png>,\n",
       " <Tile #67 - h232v214_03_11.png>,\n",
       " <Tile #68 - h232v214_03_12.png>,\n",
       " <Tile #69 - h232v214_03_13.png>,\n",
       " <Tile #70 - h232v214_03_14.png>,\n",
       " <Tile #71 - h232v214_03_15.png>,\n",
       " <Tile #72 - h232v214_03_16.png>,\n",
       " <Tile #73 - h232v214_03_17.png>,\n",
       " <Tile #74 - h232v214_03_18.png>,\n",
       " <Tile #75 - h232v214_03_19.png>,\n",
       " <Tile #76 - h232v214_03_20.png>,\n",
       " <Tile #77 - h232v214_03_21.png>,\n",
       " <Tile #78 - h232v214_03_22.png>,\n",
       " <Tile #79 - h232v214_03_23.png>,\n",
       " <Tile #80 - h232v214_03_24.png>,\n",
       " <Tile #81 - h232v214_03_25.png>,\n",
       " <Tile #82 - h232v214_03_26.png>,\n",
       " <Tile #83 - h232v214_03_27.png>,\n",
       " <Tile #84 - h232v214_03_28.png>,\n",
       " <Tile #85 - h232v214_04_01.png>,\n",
       " <Tile #86 - h232v214_04_02.png>,\n",
       " <Tile #87 - h232v214_04_03.png>,\n",
       " <Tile #88 - h232v214_04_04.png>,\n",
       " <Tile #89 - h232v214_04_05.png>,\n",
       " <Tile #90 - h232v214_04_06.png>,\n",
       " <Tile #91 - h232v214_04_07.png>,\n",
       " <Tile #92 - h232v214_04_08.png>,\n",
       " <Tile #93 - h232v214_04_09.png>,\n",
       " <Tile #94 - h232v214_04_10.png>,\n",
       " <Tile #95 - h232v214_04_11.png>,\n",
       " <Tile #96 - h232v214_04_12.png>,\n",
       " <Tile #97 - h232v214_04_13.png>,\n",
       " <Tile #98 - h232v214_04_14.png>,\n",
       " <Tile #99 - h232v214_04_15.png>,\n",
       " <Tile #100 - h232v214_04_16.png>,\n",
       " <Tile #101 - h232v214_04_17.png>,\n",
       " <Tile #102 - h232v214_04_18.png>,\n",
       " <Tile #103 - h232v214_04_19.png>,\n",
       " <Tile #104 - h232v214_04_20.png>,\n",
       " <Tile #105 - h232v214_04_21.png>,\n",
       " <Tile #106 - h232v214_04_22.png>,\n",
       " <Tile #107 - h232v214_04_23.png>,\n",
       " <Tile #108 - h232v214_04_24.png>,\n",
       " <Tile #109 - h232v214_04_25.png>,\n",
       " <Tile #110 - h232v214_04_26.png>,\n",
       " <Tile #111 - h232v214_04_27.png>,\n",
       " <Tile #112 - h232v214_04_28.png>,\n",
       " <Tile #113 - h232v214_05_01.png>,\n",
       " <Tile #114 - h232v214_05_02.png>,\n",
       " <Tile #115 - h232v214_05_03.png>,\n",
       " <Tile #116 - h232v214_05_04.png>,\n",
       " <Tile #117 - h232v214_05_05.png>,\n",
       " <Tile #118 - h232v214_05_06.png>,\n",
       " <Tile #119 - h232v214_05_07.png>,\n",
       " <Tile #120 - h232v214_05_08.png>,\n",
       " <Tile #121 - h232v214_05_09.png>,\n",
       " <Tile #122 - h232v214_05_10.png>,\n",
       " <Tile #123 - h232v214_05_11.png>,\n",
       " <Tile #124 - h232v214_05_12.png>,\n",
       " <Tile #125 - h232v214_05_13.png>,\n",
       " <Tile #126 - h232v214_05_14.png>,\n",
       " <Tile #127 - h232v214_05_15.png>,\n",
       " <Tile #128 - h232v214_05_16.png>,\n",
       " <Tile #129 - h232v214_05_17.png>,\n",
       " <Tile #130 - h232v214_05_18.png>,\n",
       " <Tile #131 - h232v214_05_19.png>,\n",
       " <Tile #132 - h232v214_05_20.png>,\n",
       " <Tile #133 - h232v214_05_21.png>,\n",
       " <Tile #134 - h232v214_05_22.png>,\n",
       " <Tile #135 - h232v214_05_23.png>,\n",
       " <Tile #136 - h232v214_05_24.png>,\n",
       " <Tile #137 - h232v214_05_25.png>,\n",
       " <Tile #138 - h232v214_05_26.png>,\n",
       " <Tile #139 - h232v214_05_27.png>,\n",
       " <Tile #140 - h232v214_05_28.png>,\n",
       " <Tile #141 - h232v214_06_01.png>,\n",
       " <Tile #142 - h232v214_06_02.png>,\n",
       " <Tile #143 - h232v214_06_03.png>,\n",
       " <Tile #144 - h232v214_06_04.png>,\n",
       " <Tile #145 - h232v214_06_05.png>,\n",
       " <Tile #146 - h232v214_06_06.png>,\n",
       " <Tile #147 - h232v214_06_07.png>,\n",
       " <Tile #148 - h232v214_06_08.png>,\n",
       " <Tile #149 - h232v214_06_09.png>,\n",
       " <Tile #150 - h232v214_06_10.png>,\n",
       " <Tile #151 - h232v214_06_11.png>,\n",
       " <Tile #152 - h232v214_06_12.png>,\n",
       " <Tile #153 - h232v214_06_13.png>,\n",
       " <Tile #154 - h232v214_06_14.png>,\n",
       " <Tile #155 - h232v214_06_15.png>,\n",
       " <Tile #156 - h232v214_06_16.png>,\n",
       " <Tile #157 - h232v214_06_17.png>,\n",
       " <Tile #158 - h232v214_06_18.png>,\n",
       " <Tile #159 - h232v214_06_19.png>,\n",
       " <Tile #160 - h232v214_06_20.png>,\n",
       " <Tile #161 - h232v214_06_21.png>,\n",
       " <Tile #162 - h232v214_06_22.png>,\n",
       " <Tile #163 - h232v214_06_23.png>,\n",
       " <Tile #164 - h232v214_06_24.png>,\n",
       " <Tile #165 - h232v214_06_25.png>,\n",
       " <Tile #166 - h232v214_06_26.png>,\n",
       " <Tile #167 - h232v214_06_27.png>,\n",
       " <Tile #168 - h232v214_06_28.png>,\n",
       " <Tile #169 - h232v214_07_01.png>,\n",
       " <Tile #170 - h232v214_07_02.png>,\n",
       " <Tile #171 - h232v214_07_03.png>,\n",
       " <Tile #172 - h232v214_07_04.png>,\n",
       " <Tile #173 - h232v214_07_05.png>,\n",
       " <Tile #174 - h232v214_07_06.png>,\n",
       " <Tile #175 - h232v214_07_07.png>,\n",
       " <Tile #176 - h232v214_07_08.png>,\n",
       " <Tile #177 - h232v214_07_09.png>,\n",
       " <Tile #178 - h232v214_07_10.png>,\n",
       " <Tile #179 - h232v214_07_11.png>,\n",
       " <Tile #180 - h232v214_07_12.png>,\n",
       " <Tile #181 - h232v214_07_13.png>,\n",
       " <Tile #182 - h232v214_07_14.png>,\n",
       " <Tile #183 - h232v214_07_15.png>,\n",
       " <Tile #184 - h232v214_07_16.png>,\n",
       " <Tile #185 - h232v214_07_17.png>,\n",
       " <Tile #186 - h232v214_07_18.png>,\n",
       " <Tile #187 - h232v214_07_19.png>,\n",
       " <Tile #188 - h232v214_07_20.png>,\n",
       " <Tile #189 - h232v214_07_21.png>,\n",
       " <Tile #190 - h232v214_07_22.png>,\n",
       " <Tile #191 - h232v214_07_23.png>,\n",
       " <Tile #192 - h232v214_07_24.png>,\n",
       " <Tile #193 - h232v214_07_25.png>,\n",
       " <Tile #194 - h232v214_07_26.png>,\n",
       " <Tile #195 - h232v214_07_27.png>,\n",
       " <Tile #196 - h232v214_07_28.png>,\n",
       " <Tile #197 - h232v214_08_01.png>,\n",
       " <Tile #198 - h232v214_08_02.png>,\n",
       " <Tile #199 - h232v214_08_03.png>,\n",
       " <Tile #200 - h232v214_08_04.png>,\n",
       " <Tile #201 - h232v214_08_05.png>,\n",
       " <Tile #202 - h232v214_08_06.png>,\n",
       " <Tile #203 - h232v214_08_07.png>,\n",
       " <Tile #204 - h232v214_08_08.png>,\n",
       " <Tile #205 - h232v214_08_09.png>,\n",
       " <Tile #206 - h232v214_08_10.png>,\n",
       " <Tile #207 - h232v214_08_11.png>,\n",
       " <Tile #208 - h232v214_08_12.png>,\n",
       " <Tile #209 - h232v214_08_13.png>,\n",
       " <Tile #210 - h232v214_08_14.png>,\n",
       " <Tile #211 - h232v214_08_15.png>,\n",
       " <Tile #212 - h232v214_08_16.png>,\n",
       " <Tile #213 - h232v214_08_17.png>,\n",
       " <Tile #214 - h232v214_08_18.png>,\n",
       " <Tile #215 - h232v214_08_19.png>,\n",
       " <Tile #216 - h232v214_08_20.png>,\n",
       " <Tile #217 - h232v214_08_21.png>,\n",
       " <Tile #218 - h232v214_08_22.png>,\n",
       " <Tile #219 - h232v214_08_23.png>,\n",
       " <Tile #220 - h232v214_08_24.png>,\n",
       " <Tile #221 - h232v214_08_25.png>,\n",
       " <Tile #222 - h232v214_08_26.png>,\n",
       " <Tile #223 - h232v214_08_27.png>,\n",
       " <Tile #224 - h232v214_08_28.png>,\n",
       " <Tile #225 - h232v214_09_01.png>,\n",
       " <Tile #226 - h232v214_09_02.png>,\n",
       " <Tile #227 - h232v214_09_03.png>,\n",
       " <Tile #228 - h232v214_09_04.png>,\n",
       " <Tile #229 - h232v214_09_05.png>,\n",
       " <Tile #230 - h232v214_09_06.png>,\n",
       " <Tile #231 - h232v214_09_07.png>,\n",
       " <Tile #232 - h232v214_09_08.png>,\n",
       " <Tile #233 - h232v214_09_09.png>,\n",
       " <Tile #234 - h232v214_09_10.png>,\n",
       " <Tile #235 - h232v214_09_11.png>,\n",
       " <Tile #236 - h232v214_09_12.png>,\n",
       " <Tile #237 - h232v214_09_13.png>,\n",
       " <Tile #238 - h232v214_09_14.png>,\n",
       " <Tile #239 - h232v214_09_15.png>,\n",
       " <Tile #240 - h232v214_09_16.png>,\n",
       " <Tile #241 - h232v214_09_17.png>,\n",
       " <Tile #242 - h232v214_09_18.png>,\n",
       " <Tile #243 - h232v214_09_19.png>,\n",
       " <Tile #244 - h232v214_09_20.png>,\n",
       " <Tile #245 - h232v214_09_21.png>,\n",
       " <Tile #246 - h232v214_09_22.png>,\n",
       " <Tile #247 - h232v214_09_23.png>,\n",
       " <Tile #248 - h232v214_09_24.png>,\n",
       " <Tile #249 - h232v214_09_25.png>,\n",
       " <Tile #250 - h232v214_09_26.png>,\n",
       " <Tile #251 - h232v214_09_27.png>,\n",
       " <Tile #252 - h232v214_09_28.png>,\n",
       " <Tile #253 - h232v214_10_01.png>,\n",
       " <Tile #254 - h232v214_10_02.png>,\n",
       " <Tile #255 - h232v214_10_03.png>,\n",
       " <Tile #256 - h232v214_10_04.png>,\n",
       " <Tile #257 - h232v214_10_05.png>,\n",
       " <Tile #258 - h232v214_10_06.png>,\n",
       " <Tile #259 - h232v214_10_07.png>,\n",
       " <Tile #260 - h232v214_10_08.png>,\n",
       " <Tile #261 - h232v214_10_09.png>,\n",
       " <Tile #262 - h232v214_10_10.png>,\n",
       " <Tile #263 - h232v214_10_11.png>,\n",
       " <Tile #264 - h232v214_10_12.png>,\n",
       " <Tile #265 - h232v214_10_13.png>,\n",
       " <Tile #266 - h232v214_10_14.png>,\n",
       " <Tile #267 - h232v214_10_15.png>,\n",
       " <Tile #268 - h232v214_10_16.png>,\n",
       " <Tile #269 - h232v214_10_17.png>,\n",
       " <Tile #270 - h232v214_10_18.png>,\n",
       " <Tile #271 - h232v214_10_19.png>,\n",
       " <Tile #272 - h232v214_10_20.png>,\n",
       " <Tile #273 - h232v214_10_21.png>,\n",
       " <Tile #274 - h232v214_10_22.png>,\n",
       " <Tile #275 - h232v214_10_23.png>,\n",
       " <Tile #276 - h232v214_10_24.png>,\n",
       " <Tile #277 - h232v214_10_25.png>,\n",
       " <Tile #278 - h232v214_10_26.png>,\n",
       " <Tile #279 - h232v214_10_27.png>,\n",
       " <Tile #280 - h232v214_10_28.png>,\n",
       " <Tile #281 - h232v214_11_01.png>,\n",
       " <Tile #282 - h232v214_11_02.png>,\n",
       " <Tile #283 - h232v214_11_03.png>,\n",
       " <Tile #284 - h232v214_11_04.png>,\n",
       " <Tile #285 - h232v214_11_05.png>,\n",
       " <Tile #286 - h232v214_11_06.png>,\n",
       " <Tile #287 - h232v214_11_07.png>,\n",
       " <Tile #288 - h232v214_11_08.png>,\n",
       " <Tile #289 - h232v214_11_09.png>,\n",
       " <Tile #290 - h232v214_11_10.png>,\n",
       " <Tile #291 - h232v214_11_11.png>,\n",
       " <Tile #292 - h232v214_11_12.png>,\n",
       " <Tile #293 - h232v214_11_13.png>,\n",
       " <Tile #294 - h232v214_11_14.png>,\n",
       " <Tile #295 - h232v214_11_15.png>,\n",
       " <Tile #296 - h232v214_11_16.png>,\n",
       " <Tile #297 - h232v214_11_17.png>,\n",
       " <Tile #298 - h232v214_11_18.png>,\n",
       " <Tile #299 - h232v214_11_19.png>,\n",
       " <Tile #300 - h232v214_11_20.png>,\n",
       " <Tile #301 - h232v214_11_21.png>,\n",
       " <Tile #302 - h232v214_11_22.png>,\n",
       " <Tile #303 - h232v214_11_23.png>,\n",
       " <Tile #304 - h232v214_11_24.png>,\n",
       " <Tile #305 - h232v214_11_25.png>,\n",
       " <Tile #306 - h232v214_11_26.png>,\n",
       " <Tile #307 - h232v214_11_27.png>,\n",
       " <Tile #308 - h232v214_11_28.png>,\n",
       " <Tile #309 - h232v214_12_01.png>,\n",
       " <Tile #310 - h232v214_12_02.png>,\n",
       " <Tile #311 - h232v214_12_03.png>,\n",
       " <Tile #312 - h232v214_12_04.png>,\n",
       " <Tile #313 - h232v214_12_05.png>,\n",
       " <Tile #314 - h232v214_12_06.png>,\n",
       " <Tile #315 - h232v214_12_07.png>,\n",
       " <Tile #316 - h232v214_12_08.png>,\n",
       " <Tile #317 - h232v214_12_09.png>,\n",
       " <Tile #318 - h232v214_12_10.png>,\n",
       " <Tile #319 - h232v214_12_11.png>,\n",
       " <Tile #320 - h232v214_12_12.png>,\n",
       " <Tile #321 - h232v214_12_13.png>,\n",
       " <Tile #322 - h232v214_12_14.png>,\n",
       " <Tile #323 - h232v214_12_15.png>,\n",
       " <Tile #324 - h232v214_12_16.png>,\n",
       " <Tile #325 - h232v214_12_17.png>,\n",
       " <Tile #326 - h232v214_12_18.png>,\n",
       " <Tile #327 - h232v214_12_19.png>,\n",
       " <Tile #328 - h232v214_12_20.png>,\n",
       " <Tile #329 - h232v214_12_21.png>,\n",
       " <Tile #330 - h232v214_12_22.png>,\n",
       " <Tile #331 - h232v214_12_23.png>,\n",
       " <Tile #332 - h232v214_12_24.png>,\n",
       " <Tile #333 - h232v214_12_25.png>,\n",
       " <Tile #334 - h232v214_12_26.png>,\n",
       " <Tile #335 - h232v214_12_27.png>,\n",
       " <Tile #336 - h232v214_12_28.png>,\n",
       " <Tile #337 - h232v214_13_01.png>,\n",
       " <Tile #338 - h232v214_13_02.png>,\n",
       " <Tile #339 - h232v214_13_03.png>,\n",
       " <Tile #340 - h232v214_13_04.png>,\n",
       " <Tile #341 - h232v214_13_05.png>,\n",
       " <Tile #342 - h232v214_13_06.png>,\n",
       " <Tile #343 - h232v214_13_07.png>,\n",
       " <Tile #344 - h232v214_13_08.png>,\n",
       " <Tile #345 - h232v214_13_09.png>,\n",
       " <Tile #346 - h232v214_13_10.png>,\n",
       " <Tile #347 - h232v214_13_11.png>,\n",
       " <Tile #348 - h232v214_13_12.png>,\n",
       " <Tile #349 - h232v214_13_13.png>,\n",
       " <Tile #350 - h232v214_13_14.png>,\n",
       " <Tile #351 - h232v214_13_15.png>,\n",
       " <Tile #352 - h232v214_13_16.png>,\n",
       " <Tile #353 - h232v214_13_17.png>,\n",
       " <Tile #354 - h232v214_13_18.png>,\n",
       " <Tile #355 - h232v214_13_19.png>,\n",
       " <Tile #356 - h232v214_13_20.png>,\n",
       " <Tile #357 - h232v214_13_21.png>,\n",
       " <Tile #358 - h232v214_13_22.png>,\n",
       " <Tile #359 - h232v214_13_23.png>,\n",
       " <Tile #360 - h232v214_13_24.png>,\n",
       " <Tile #361 - h232v214_13_25.png>,\n",
       " <Tile #362 - h232v214_13_26.png>,\n",
       " <Tile #363 - h232v214_13_27.png>,\n",
       " <Tile #364 - h232v214_13_28.png>,\n",
       " <Tile #365 - h232v214_14_01.png>,\n",
       " <Tile #366 - h232v214_14_02.png>,\n",
       " <Tile #367 - h232v214_14_03.png>,\n",
       " <Tile #368 - h232v214_14_04.png>,\n",
       " <Tile #369 - h232v214_14_05.png>,\n",
       " <Tile #370 - h232v214_14_06.png>,\n",
       " <Tile #371 - h232v214_14_07.png>,\n",
       " <Tile #372 - h232v214_14_08.png>,\n",
       " <Tile #373 - h232v214_14_09.png>,\n",
       " <Tile #374 - h232v214_14_10.png>,\n",
       " <Tile #375 - h232v214_14_11.png>,\n",
       " <Tile #376 - h232v214_14_12.png>,\n",
       " <Tile #377 - h232v214_14_13.png>,\n",
       " <Tile #378 - h232v214_14_14.png>,\n",
       " <Tile #379 - h232v214_14_15.png>,\n",
       " <Tile #380 - h232v214_14_16.png>,\n",
       " <Tile #381 - h232v214_14_17.png>,\n",
       " <Tile #382 - h232v214_14_18.png>,\n",
       " <Tile #383 - h232v214_14_19.png>,\n",
       " <Tile #384 - h232v214_14_20.png>,\n",
       " <Tile #385 - h232v214_14_21.png>,\n",
       " <Tile #386 - h232v214_14_22.png>,\n",
       " <Tile #387 - h232v214_14_23.png>,\n",
       " <Tile #388 - h232v214_14_24.png>,\n",
       " <Tile #389 - h232v214_14_25.png>,\n",
       " <Tile #390 - h232v214_14_26.png>,\n",
       " <Tile #391 - h232v214_14_27.png>,\n",
       " <Tile #392 - h232v214_14_28.png>,\n",
       " <Tile #393 - h232v214_15_01.png>,\n",
       " <Tile #394 - h232v214_15_02.png>,\n",
       " <Tile #395 - h232v214_15_03.png>,\n",
       " <Tile #396 - h232v214_15_04.png>,\n",
       " <Tile #397 - h232v214_15_05.png>,\n",
       " <Tile #398 - h232v214_15_06.png>,\n",
       " <Tile #399 - h232v214_15_07.png>,\n",
       " <Tile #400 - h232v214_15_08.png>,\n",
       " <Tile #401 - h232v214_15_09.png>,\n",
       " <Tile #402 - h232v214_15_10.png>,\n",
       " <Tile #403 - h232v214_15_11.png>,\n",
       " <Tile #404 - h232v214_15_12.png>,\n",
       " <Tile #405 - h232v214_15_13.png>,\n",
       " <Tile #406 - h232v214_15_14.png>,\n",
       " <Tile #407 - h232v214_15_15.png>,\n",
       " <Tile #408 - h232v214_15_16.png>,\n",
       " <Tile #409 - h232v214_15_17.png>,\n",
       " <Tile #410 - h232v214_15_18.png>,\n",
       " <Tile #411 - h232v214_15_19.png>,\n",
       " <Tile #412 - h232v214_15_20.png>,\n",
       " <Tile #413 - h232v214_15_21.png>,\n",
       " <Tile #414 - h232v214_15_22.png>,\n",
       " <Tile #415 - h232v214_15_23.png>,\n",
       " <Tile #416 - h232v214_15_24.png>,\n",
       " <Tile #417 - h232v214_15_25.png>,\n",
       " <Tile #418 - h232v214_15_26.png>,\n",
       " <Tile #419 - h232v214_15_27.png>,\n",
       " <Tile #420 - h232v214_15_28.png>,\n",
       " <Tile #421 - h232v214_16_01.png>,\n",
       " <Tile #422 - h232v214_16_02.png>,\n",
       " <Tile #423 - h232v214_16_03.png>,\n",
       " <Tile #424 - h232v214_16_04.png>,\n",
       " <Tile #425 - h232v214_16_05.png>,\n",
       " <Tile #426 - h232v214_16_06.png>,\n",
       " <Tile #427 - h232v214_16_07.png>,\n",
       " <Tile #428 - h232v214_16_08.png>,\n",
       " <Tile #429 - h232v214_16_09.png>,\n",
       " <Tile #430 - h232v214_16_10.png>,\n",
       " <Tile #431 - h232v214_16_11.png>,\n",
       " <Tile #432 - h232v214_16_12.png>,\n",
       " <Tile #433 - h232v214_16_13.png>,\n",
       " <Tile #434 - h232v214_16_14.png>,\n",
       " <Tile #435 - h232v214_16_15.png>,\n",
       " <Tile #436 - h232v214_16_16.png>,\n",
       " <Tile #437 - h232v214_16_17.png>,\n",
       " <Tile #438 - h232v214_16_18.png>,\n",
       " <Tile #439 - h232v214_16_19.png>,\n",
       " <Tile #440 - h232v214_16_20.png>,\n",
       " <Tile #441 - h232v214_16_21.png>,\n",
       " <Tile #442 - h232v214_16_22.png>,\n",
       " <Tile #443 - h232v214_16_23.png>,\n",
       " <Tile #444 - h232v214_16_24.png>,\n",
       " <Tile #445 - h232v214_16_25.png>,\n",
       " <Tile #446 - h232v214_16_26.png>,\n",
       " <Tile #447 - h232v214_16_27.png>,\n",
       " <Tile #448 - h232v214_16_28.png>,\n",
       " <Tile #449 - h232v214_17_01.png>,\n",
       " <Tile #450 - h232v214_17_02.png>,\n",
       " <Tile #451 - h232v214_17_03.png>,\n",
       " <Tile #452 - h232v214_17_04.png>,\n",
       " <Tile #453 - h232v214_17_05.png>,\n",
       " <Tile #454 - h232v214_17_06.png>,\n",
       " <Tile #455 - h232v214_17_07.png>,\n",
       " <Tile #456 - h232v214_17_08.png>,\n",
       " <Tile #457 - h232v214_17_09.png>,\n",
       " <Tile #458 - h232v214_17_10.png>,\n",
       " <Tile #459 - h232v214_17_11.png>,\n",
       " <Tile #460 - h232v214_17_12.png>,\n",
       " <Tile #461 - h232v214_17_13.png>,\n",
       " <Tile #462 - h232v214_17_14.png>,\n",
       " <Tile #463 - h232v214_17_15.png>,\n",
       " <Tile #464 - h232v214_17_16.png>,\n",
       " <Tile #465 - h232v214_17_17.png>,\n",
       " <Tile #466 - h232v214_17_18.png>,\n",
       " <Tile #467 - h232v214_17_19.png>,\n",
       " <Tile #468 - h232v214_17_20.png>,\n",
       " <Tile #469 - h232v214_17_21.png>,\n",
       " <Tile #470 - h232v214_17_22.png>,\n",
       " <Tile #471 - h232v214_17_23.png>,\n",
       " <Tile #472 - h232v214_17_24.png>,\n",
       " <Tile #473 - h232v214_17_25.png>,\n",
       " <Tile #474 - h232v214_17_26.png>,\n",
       " <Tile #475 - h232v214_17_27.png>,\n",
       " <Tile #476 - h232v214_17_28.png>,\n",
       " <Tile #477 - h232v214_18_01.png>,\n",
       " <Tile #478 - h232v214_18_02.png>,\n",
       " <Tile #479 - h232v214_18_03.png>,\n",
       " <Tile #480 - h232v214_18_04.png>,\n",
       " <Tile #481 - h232v214_18_05.png>,\n",
       " <Tile #482 - h232v214_18_06.png>,\n",
       " <Tile #483 - h232v214_18_07.png>,\n",
       " <Tile #484 - h232v214_18_08.png>,\n",
       " <Tile #485 - h232v214_18_09.png>,\n",
       " <Tile #486 - h232v214_18_10.png>,\n",
       " <Tile #487 - h232v214_18_11.png>,\n",
       " <Tile #488 - h232v214_18_12.png>,\n",
       " <Tile #489 - h232v214_18_13.png>,\n",
       " <Tile #490 - h232v214_18_14.png>,\n",
       " <Tile #491 - h232v214_18_15.png>,\n",
       " <Tile #492 - h232v214_18_16.png>,\n",
       " <Tile #493 - h232v214_18_17.png>,\n",
       " <Tile #494 - h232v214_18_18.png>,\n",
       " <Tile #495 - h232v214_18_19.png>,\n",
       " <Tile #496 - h232v214_18_20.png>,\n",
       " <Tile #497 - h232v214_18_21.png>,\n",
       " <Tile #498 - h232v214_18_22.png>,\n",
       " <Tile #499 - h232v214_18_23.png>,\n",
       " <Tile #500 - h232v214_18_24.png>,\n",
       " <Tile #501 - h232v214_18_25.png>,\n",
       " <Tile #502 - h232v214_18_26.png>,\n",
       " <Tile #503 - h232v214_18_27.png>,\n",
       " <Tile #504 - h232v214_18_28.png>,\n",
       " <Tile #505 - h232v214_19_01.png>,\n",
       " <Tile #506 - h232v214_19_02.png>,\n",
       " <Tile #507 - h232v214_19_03.png>,\n",
       " <Tile #508 - h232v214_19_04.png>,\n",
       " <Tile #509 - h232v214_19_05.png>,\n",
       " <Tile #510 - h232v214_19_06.png>,\n",
       " <Tile #511 - h232v214_19_07.png>,\n",
       " <Tile #512 - h232v214_19_08.png>,\n",
       " <Tile #513 - h232v214_19_09.png>,\n",
       " <Tile #514 - h232v214_19_10.png>,\n",
       " <Tile #515 - h232v214_19_11.png>,\n",
       " <Tile #516 - h232v214_19_12.png>,\n",
       " <Tile #517 - h232v214_19_13.png>,\n",
       " <Tile #518 - h232v214_19_14.png>,\n",
       " <Tile #519 - h232v214_19_15.png>,\n",
       " <Tile #520 - h232v214_19_16.png>,\n",
       " <Tile #521 - h232v214_19_17.png>,\n",
       " <Tile #522 - h232v214_19_18.png>,\n",
       " <Tile #523 - h232v214_19_19.png>,\n",
       " <Tile #524 - h232v214_19_20.png>,\n",
       " <Tile #525 - h232v214_19_21.png>,\n",
       " <Tile #526 - h232v214_19_22.png>,\n",
       " <Tile #527 - h232v214_19_23.png>,\n",
       " <Tile #528 - h232v214_19_24.png>,\n",
       " <Tile #529 - h232v214_19_25.png>,\n",
       " <Tile #530 - h232v214_19_26.png>,\n",
       " <Tile #531 - h232v214_19_27.png>,\n",
       " <Tile #532 - h232v214_19_28.png>,\n",
       " <Tile #533 - h232v214_20_01.png>,\n",
       " <Tile #534 - h232v214_20_02.png>,\n",
       " <Tile #535 - h232v214_20_03.png>,\n",
       " <Tile #536 - h232v214_20_04.png>,\n",
       " <Tile #537 - h232v214_20_05.png>,\n",
       " <Tile #538 - h232v214_20_06.png>,\n",
       " <Tile #539 - h232v214_20_07.png>,\n",
       " <Tile #540 - h232v214_20_08.png>,\n",
       " <Tile #541 - h232v214_20_09.png>,\n",
       " <Tile #542 - h232v214_20_10.png>,\n",
       " <Tile #543 - h232v214_20_11.png>,\n",
       " <Tile #544 - h232v214_20_12.png>,\n",
       " <Tile #545 - h232v214_20_13.png>,\n",
       " <Tile #546 - h232v214_20_14.png>,\n",
       " <Tile #547 - h232v214_20_15.png>,\n",
       " <Tile #548 - h232v214_20_16.png>,\n",
       " <Tile #549 - h232v214_20_17.png>,\n",
       " <Tile #550 - h232v214_20_18.png>,\n",
       " <Tile #551 - h232v214_20_19.png>,\n",
       " <Tile #552 - h232v214_20_20.png>,\n",
       " <Tile #553 - h232v214_20_21.png>,\n",
       " <Tile #554 - h232v214_20_22.png>,\n",
       " <Tile #555 - h232v214_20_23.png>,\n",
       " <Tile #556 - h232v214_20_24.png>,\n",
       " <Tile #557 - h232v214_20_25.png>,\n",
       " <Tile #558 - h232v214_20_26.png>,\n",
       " <Tile #559 - h232v214_20_27.png>,\n",
       " <Tile #560 - h232v214_20_28.png>,\n",
       " <Tile #561 - h232v214_21_01.png>,\n",
       " <Tile #562 - h232v214_21_02.png>,\n",
       " <Tile #563 - h232v214_21_03.png>,\n",
       " <Tile #564 - h232v214_21_04.png>,\n",
       " <Tile #565 - h232v214_21_05.png>,\n",
       " <Tile #566 - h232v214_21_06.png>,\n",
       " <Tile #567 - h232v214_21_07.png>,\n",
       " <Tile #568 - h232v214_21_08.png>,\n",
       " <Tile #569 - h232v214_21_09.png>,\n",
       " <Tile #570 - h232v214_21_10.png>,\n",
       " <Tile #571 - h232v214_21_11.png>,\n",
       " <Tile #572 - h232v214_21_12.png>,\n",
       " <Tile #573 - h232v214_21_13.png>,\n",
       " <Tile #574 - h232v214_21_14.png>,\n",
       " <Tile #575 - h232v214_21_15.png>,\n",
       " <Tile #576 - h232v214_21_16.png>,\n",
       " <Tile #577 - h232v214_21_17.png>,\n",
       " <Tile #578 - h232v214_21_18.png>,\n",
       " <Tile #579 - h232v214_21_19.png>,\n",
       " <Tile #580 - h232v214_21_20.png>,\n",
       " <Tile #581 - h232v214_21_21.png>,\n",
       " <Tile #582 - h232v214_21_22.png>,\n",
       " <Tile #583 - h232v214_21_23.png>,\n",
       " <Tile #584 - h232v214_21_24.png>,\n",
       " <Tile #585 - h232v214_21_25.png>,\n",
       " <Tile #586 - h232v214_21_26.png>,\n",
       " <Tile #587 - h232v214_21_27.png>,\n",
       " <Tile #588 - h232v214_21_28.png>,\n",
       " <Tile #589 - h232v214_22_01.png>,\n",
       " <Tile #590 - h232v214_22_02.png>,\n",
       " <Tile #591 - h232v214_22_03.png>,\n",
       " <Tile #592 - h232v214_22_04.png>,\n",
       " <Tile #593 - h232v214_22_05.png>,\n",
       " <Tile #594 - h232v214_22_06.png>,\n",
       " <Tile #595 - h232v214_22_07.png>,\n",
       " <Tile #596 - h232v214_22_08.png>,\n",
       " <Tile #597 - h232v214_22_09.png>,\n",
       " <Tile #598 - h232v214_22_10.png>,\n",
       " <Tile #599 - h232v214_22_11.png>,\n",
       " <Tile #600 - h232v214_22_12.png>,\n",
       " <Tile #601 - h232v214_22_13.png>,\n",
       " <Tile #602 - h232v214_22_14.png>,\n",
       " <Tile #603 - h232v214_22_15.png>,\n",
       " <Tile #604 - h232v214_22_16.png>,\n",
       " <Tile #605 - h232v214_22_17.png>,\n",
       " <Tile #606 - h232v214_22_18.png>,\n",
       " <Tile #607 - h232v214_22_19.png>,\n",
       " <Tile #608 - h232v214_22_20.png>,\n",
       " <Tile #609 - h232v214_22_21.png>,\n",
       " <Tile #610 - h232v214_22_22.png>,\n",
       " <Tile #611 - h232v214_22_23.png>,\n",
       " <Tile #612 - h232v214_22_24.png>,\n",
       " <Tile #613 - h232v214_22_25.png>,\n",
       " <Tile #614 - h232v214_22_26.png>,\n",
       " <Tile #615 - h232v214_22_27.png>,\n",
       " <Tile #616 - h232v214_22_28.png>,\n",
       " <Tile #617 - h232v214_23_01.png>,\n",
       " <Tile #618 - h232v214_23_02.png>,\n",
       " <Tile #619 - h232v214_23_03.png>,\n",
       " <Tile #620 - h232v214_23_04.png>,\n",
       " <Tile #621 - h232v214_23_05.png>,\n",
       " <Tile #622 - h232v214_23_06.png>,\n",
       " <Tile #623 - h232v214_23_07.png>,\n",
       " <Tile #624 - h232v214_23_08.png>,\n",
       " <Tile #625 - h232v214_23_09.png>,\n",
       " <Tile #626 - h232v214_23_10.png>,\n",
       " <Tile #627 - h232v214_23_11.png>,\n",
       " <Tile #628 - h232v214_23_12.png>,\n",
       " <Tile #629 - h232v214_23_13.png>,\n",
       " <Tile #630 - h232v214_23_14.png>,\n",
       " <Tile #631 - h232v214_23_15.png>,\n",
       " <Tile #632 - h232v214_23_16.png>,\n",
       " <Tile #633 - h232v214_23_17.png>,\n",
       " <Tile #634 - h232v214_23_18.png>,\n",
       " <Tile #635 - h232v214_23_19.png>,\n",
       " <Tile #636 - h232v214_23_20.png>,\n",
       " <Tile #637 - h232v214_23_21.png>,\n",
       " <Tile #638 - h232v214_23_22.png>,\n",
       " <Tile #639 - h232v214_23_23.png>,\n",
       " <Tile #640 - h232v214_23_24.png>,\n",
       " <Tile #641 - h232v214_23_25.png>,\n",
       " <Tile #642 - h232v214_23_26.png>,\n",
       " <Tile #643 - h232v214_23_27.png>,\n",
       " <Tile #644 - h232v214_23_28.png>,\n",
       " <Tile #645 - h232v214_24_01.png>,\n",
       " <Tile #646 - h232v214_24_02.png>,\n",
       " <Tile #647 - h232v214_24_03.png>,\n",
       " <Tile #648 - h232v214_24_04.png>,\n",
       " <Tile #649 - h232v214_24_05.png>,\n",
       " <Tile #650 - h232v214_24_06.png>,\n",
       " <Tile #651 - h232v214_24_07.png>,\n",
       " <Tile #652 - h232v214_24_08.png>,\n",
       " <Tile #653 - h232v214_24_09.png>,\n",
       " <Tile #654 - h232v214_24_10.png>,\n",
       " <Tile #655 - h232v214_24_11.png>,\n",
       " <Tile #656 - h232v214_24_12.png>,\n",
       " <Tile #657 - h232v214_24_13.png>,\n",
       " <Tile #658 - h232v214_24_14.png>,\n",
       " <Tile #659 - h232v214_24_15.png>,\n",
       " <Tile #660 - h232v214_24_16.png>,\n",
       " <Tile #661 - h232v214_24_17.png>,\n",
       " <Tile #662 - h232v214_24_18.png>,\n",
       " <Tile #663 - h232v214_24_19.png>,\n",
       " <Tile #664 - h232v214_24_20.png>,\n",
       " <Tile #665 - h232v214_24_21.png>,\n",
       " <Tile #666 - h232v214_24_22.png>,\n",
       " <Tile #667 - h232v214_24_23.png>,\n",
       " <Tile #668 - h232v214_24_24.png>,\n",
       " <Tile #669 - h232v214_24_25.png>,\n",
       " <Tile #670 - h232v214_24_26.png>,\n",
       " <Tile #671 - h232v214_24_27.png>,\n",
       " <Tile #672 - h232v214_24_28.png>,\n",
       " <Tile #673 - h232v214_25_01.png>,\n",
       " <Tile #674 - h232v214_25_02.png>,\n",
       " <Tile #675 - h232v214_25_03.png>,\n",
       " <Tile #676 - h232v214_25_04.png>,\n",
       " <Tile #677 - h232v214_25_05.png>,\n",
       " <Tile #678 - h232v214_25_06.png>,\n",
       " <Tile #679 - h232v214_25_07.png>,\n",
       " <Tile #680 - h232v214_25_08.png>,\n",
       " <Tile #681 - h232v214_25_09.png>,\n",
       " <Tile #682 - h232v214_25_10.png>,\n",
       " <Tile #683 - h232v214_25_11.png>,\n",
       " <Tile #684 - h232v214_25_12.png>,\n",
       " <Tile #685 - h232v214_25_13.png>,\n",
       " <Tile #686 - h232v214_25_14.png>,\n",
       " <Tile #687 - h232v214_25_15.png>,\n",
       " <Tile #688 - h232v214_25_16.png>,\n",
       " <Tile #689 - h232v214_25_17.png>,\n",
       " <Tile #690 - h232v214_25_18.png>,\n",
       " <Tile #691 - h232v214_25_19.png>,\n",
       " <Tile #692 - h232v214_25_20.png>,\n",
       " <Tile #693 - h232v214_25_21.png>,\n",
       " <Tile #694 - h232v214_25_22.png>,\n",
       " <Tile #695 - h232v214_25_23.png>,\n",
       " <Tile #696 - h232v214_25_24.png>,\n",
       " <Tile #697 - h232v214_25_25.png>,\n",
       " <Tile #698 - h232v214_25_26.png>,\n",
       " <Tile #699 - h232v214_25_27.png>,\n",
       " <Tile #700 - h232v214_25_28.png>,\n",
       " <Tile #701 - h232v214_26_01.png>,\n",
       " <Tile #702 - h232v214_26_02.png>,\n",
       " <Tile #703 - h232v214_26_03.png>,\n",
       " <Tile #704 - h232v214_26_04.png>,\n",
       " <Tile #705 - h232v214_26_05.png>,\n",
       " <Tile #706 - h232v214_26_06.png>,\n",
       " <Tile #707 - h232v214_26_07.png>,\n",
       " <Tile #708 - h232v214_26_08.png>,\n",
       " <Tile #709 - h232v214_26_09.png>,\n",
       " <Tile #710 - h232v214_26_10.png>,\n",
       " <Tile #711 - h232v214_26_11.png>,\n",
       " <Tile #712 - h232v214_26_12.png>,\n",
       " <Tile #713 - h232v214_26_13.png>,\n",
       " <Tile #714 - h232v214_26_14.png>,\n",
       " <Tile #715 - h232v214_26_15.png>,\n",
       " <Tile #716 - h232v214_26_16.png>,\n",
       " <Tile #717 - h232v214_26_17.png>,\n",
       " <Tile #718 - h232v214_26_18.png>,\n",
       " <Tile #719 - h232v214_26_19.png>,\n",
       " <Tile #720 - h232v214_26_20.png>,\n",
       " <Tile #721 - h232v214_26_21.png>,\n",
       " <Tile #722 - h232v214_26_22.png>,\n",
       " <Tile #723 - h232v214_26_23.png>,\n",
       " <Tile #724 - h232v214_26_24.png>,\n",
       " <Tile #725 - h232v214_26_25.png>,\n",
       " <Tile #726 - h232v214_26_26.png>,\n",
       " <Tile #727 - h232v214_26_27.png>,\n",
       " <Tile #728 - h232v214_26_28.png>,\n",
       " <Tile #729 - h232v214_27_01.png>,\n",
       " <Tile #730 - h232v214_27_02.png>,\n",
       " <Tile #731 - h232v214_27_03.png>,\n",
       " <Tile #732 - h232v214_27_04.png>,\n",
       " <Tile #733 - h232v214_27_05.png>,\n",
       " <Tile #734 - h232v214_27_06.png>,\n",
       " <Tile #735 - h232v214_27_07.png>,\n",
       " <Tile #736 - h232v214_27_08.png>,\n",
       " <Tile #737 - h232v214_27_09.png>,\n",
       " <Tile #738 - h232v214_27_10.png>,\n",
       " <Tile #739 - h232v214_27_11.png>,\n",
       " <Tile #740 - h232v214_27_12.png>,\n",
       " <Tile #741 - h232v214_27_13.png>,\n",
       " <Tile #742 - h232v214_27_14.png>,\n",
       " <Tile #743 - h232v214_27_15.png>,\n",
       " <Tile #744 - h232v214_27_16.png>,\n",
       " <Tile #745 - h232v214_27_17.png>,\n",
       " <Tile #746 - h232v214_27_18.png>,\n",
       " <Tile #747 - h232v214_27_19.png>,\n",
       " <Tile #748 - h232v214_27_20.png>,\n",
       " <Tile #749 - h232v214_27_21.png>,\n",
       " <Tile #750 - h232v214_27_22.png>,\n",
       " <Tile #751 - h232v214_27_23.png>,\n",
       " <Tile #752 - h232v214_27_24.png>,\n",
       " <Tile #753 - h232v214_27_25.png>,\n",
       " <Tile #754 - h232v214_27_26.png>,\n",
       " <Tile #755 - h232v214_27_27.png>,\n",
       " <Tile #756 - h232v214_27_28.png>,\n",
       " <Tile #757 - h232v214_28_01.png>,\n",
       " <Tile #758 - h232v214_28_02.png>,\n",
       " <Tile #759 - h232v214_28_03.png>,\n",
       " <Tile #760 - h232v214_28_04.png>,\n",
       " <Tile #761 - h232v214_28_05.png>,\n",
       " <Tile #762 - h232v214_28_06.png>,\n",
       " <Tile #763 - h232v214_28_07.png>,\n",
       " <Tile #764 - h232v214_28_08.png>,\n",
       " <Tile #765 - h232v214_28_09.png>,\n",
       " <Tile #766 - h232v214_28_10.png>,\n",
       " <Tile #767 - h232v214_28_11.png>,\n",
       " <Tile #768 - h232v214_28_12.png>,\n",
       " <Tile #769 - h232v214_28_13.png>,\n",
       " <Tile #770 - h232v214_28_14.png>,\n",
       " <Tile #771 - h232v214_28_15.png>,\n",
       " <Tile #772 - h232v214_28_16.png>,\n",
       " <Tile #773 - h232v214_28_17.png>,\n",
       " <Tile #774 - h232v214_28_18.png>,\n",
       " <Tile #775 - h232v214_28_19.png>,\n",
       " <Tile #776 - h232v214_28_20.png>,\n",
       " <Tile #777 - h232v214_28_21.png>,\n",
       " <Tile #778 - h232v214_28_22.png>,\n",
       " <Tile #779 - h232v214_28_23.png>,\n",
       " <Tile #780 - h232v214_28_24.png>,\n",
       " <Tile #781 - h232v214_28_25.png>,\n",
       " <Tile #782 - h232v214_28_26.png>,\n",
       " <Tile #783 - h232v214_28_27.png>,\n",
       " <Tile #784 - h232v214_28_28.png>)"
      ]
     },
     "execution_count": 13,
     "metadata": {},
     "output_type": "execute_result"
    }
   ],
   "source": [
    "tiles=image_slicer.slice(r'C:\\Users\\borja\\Downloads\\V1\\mapa\\tiles\\h232v214.png',1024,save=False)\n",
    "image_slicer.save_tiles(tiles, directory=r'C:\\Users\\borja\\Downloads\\V1\\mapa\\tiles\\exp',prefix='h232v214', format='png')"
   ]
  },
  {
   "cell_type": "code",
   "execution_count": 14,
   "id": "57e10d27",
   "metadata": {},
   "outputs": [],
   "source": [
    "import os"
   ]
  },
  {
   "cell_type": "code",
   "execution_count": 15,
   "id": "cb645164",
   "metadata": {},
   "outputs": [],
   "source": [
    "import re\n"
   ]
  },
  {
   "cell_type": "code",
   "execution_count": 16,
   "id": "27a88fd9",
   "metadata": {},
   "outputs": [],
   "source": [
    "import numpy as np"
   ]
  },
  {
   "cell_type": "code",
   "execution_count": 2,
   "id": "6f63f040",
   "metadata": {},
   "outputs": [],
   "source": [
    "from PIL import Image"
   ]
  },
  {
   "cell_type": "code",
   "execution_count": 17,
   "id": "edd8d022",
   "metadata": {},
   "outputs": [],
   "source": [
    "direc=r'C:\\Users\\borja\\Downloads\\V1\\mapa\\tiles\\exp'"
   ]
  },
  {
   "cell_type": "code",
   "execution_count": 18,
   "id": "511f3ded",
   "metadata": {},
   "outputs": [],
   "source": [
    "contenido = os.listdir(direc)"
   ]
  },
  {
   "cell_type": "code",
   "execution_count": 19,
   "id": "b12b8529",
   "metadata": {},
   "outputs": [],
   "source": [
    "def renombrar(a):\n",
    "    v=np.array(re.split('v|h|_|.p', a)[1:-1]).astype('int')\n",
    "    newname='h'+str(v[0]*2**(14-9)+v[3]-1)+'v'+str(v[1]*2**(14-9)+v[2]-1)+'.png'\n",
    "    return newname\n"
   ]
  },
  {
   "cell_type": "code",
   "execution_count": 21,
   "id": "14346c1d",
   "metadata": {},
   "outputs": [],
   "source": [
    "direc2=r'C:\\Users\\borja\\Downloads\\V1\\mapa\\tiles\\exp2'"
   ]
  },
  {
   "cell_type": "code",
   "execution_count": 22,
   "id": "3d52b1de",
   "metadata": {},
   "outputs": [],
   "source": [
    "for i in contenido:\n",
    "    image = Image.open(direc+'\\\\'+i)\n",
    "    imageOut = image.resize((256,256), Image.NEAREST)\n",
    "    imageOut.save(direc2+'\\\\'+renombrar(i))"
   ]
  },
  {
   "cell_type": "code",
   "execution_count": 71,
   "id": "0ee99123",
   "metadata": {},
   "outputs": [
    {
     "name": "stdout",
     "output_type": "stream",
     "text": [
      "Collecting opencv-python\n",
      "  Downloading opencv_python-4.8.0.76-cp37-abi3-win_amd64.whl (38.1 MB)\n",
      "     --------------------------------------- 38.1/38.1 MB 14.9 MB/s eta 0:00:00\n",
      "Requirement already satisfied: numpy>=1.17.0 in c:\\users\\borja\\anaconda3\\envs\\eelabs2\\lib\\site-packages (from opencv-python) (1.22.4)\n",
      "Installing collected packages: opencv-python\n",
      "Successfully installed opencv-python-4.8.0.76\n",
      "Note: you may need to restart the kernel to use updated packages.\n"
     ]
    }
   ],
   "source": [
    "pip install opencv-python"
   ]
  },
  {
   "cell_type": "code",
   "execution_count": 76,
   "id": "b27d84ce",
   "metadata": {},
   "outputs": [],
   "source": [
    "image = cv2.imread(direc+'\\\\'+'h7432v6855.png')"
   ]
  },
  {
   "cell_type": "code",
   "execution_count": 79,
   "id": "28581f1b",
   "metadata": {},
   "outputs": [],
   "source": [
    "imageOut = cv2.resize(image,(256,256), interpolation=cv2.INTER_CUBIC)\n",
    "cv2.imshow('Imagen de entrada',image)\n",
    "cv2.imshow('Imagen de salida',imageOut)"
   ]
  },
  {
   "cell_type": "code",
   "execution_count": 77,
   "id": "87fa39b3",
   "metadata": {},
   "outputs": [],
   "source": [
    "cv2.imshow('Imagen de entrada',image)\n"
   ]
  },
  {
   "cell_type": "code",
   "execution_count": 80,
   "id": "0a222df3",
   "metadata": {},
   "outputs": [
    {
     "data": {
      "text/plain": [
       "True"
      ]
     },
     "execution_count": 80,
     "metadata": {},
     "output_type": "execute_result"
    }
   ],
   "source": [
    "cv2.imwrite(direc+'\\\\'+'a.png', image)"
   ]
  },
  {
   "cell_type": "code",
   "execution_count": 8,
   "id": "81525032",
   "metadata": {},
   "outputs": [],
   "source": [
    "import numpy as np"
   ]
  },
  {
   "cell_type": "code",
   "execution_count": 3,
   "id": "4c41e0d2",
   "metadata": {},
   "outputs": [],
   "source": [
    "image = Image.open(r'C:\\Users\\borja\\Downloads\\V1\\mapa\\tiles\\14\\h7360v6816.png')"
   ]
  },
  {
   "cell_type": "code",
   "execution_count": 14,
   "id": "adb85c63",
   "metadata": {},
   "outputs": [],
   "source": [
    "image2 = Image.open(r'C:\\Users\\borja\\Downloads\\V1\\mapa\\tiles\\14\\h7374v6874.png')"
   ]
  },
  {
   "cell_type": "code",
   "execution_count": 62,
   "id": "7f54d3fa",
   "metadata": {},
   "outputs": [],
   "source": [
    "a=np.array(image.getdata())\n",
    "b=a[:,0].std(),a[:,1].std(),a[:,2].std(),a[:,3].std()"
   ]
  },
  {
   "cell_type": "code",
   "execution_count": 64,
   "id": "1b2b9887",
   "metadata": {},
   "outputs": [],
   "source": [
    "a=np.array(image2.getdata())\n",
    "B=a[:,0].std(),a[:,1].std(),a[:,2].std(),a[:,3].std()"
   ]
  },
  {
   "cell_type": "code",
   "execution_count": 53,
   "id": "4b3411f2",
   "metadata": {},
   "outputs": [
    {
     "data": {
      "text/plain": [
       "array([ True,  True,  True,  True])"
      ]
     },
     "execution_count": 53,
     "metadata": {},
     "output_type": "execute_result"
    }
   ],
   "source": [
    "a[0]==(0,0,0,0)"
   ]
  },
  {
   "cell_type": "code",
   "execution_count": 54,
   "id": "2bbb6b43",
   "metadata": {},
   "outputs": [
    {
     "data": {
      "text/plain": [
       "False"
      ]
     },
     "execution_count": 54,
     "metadata": {},
     "output_type": "execute_result"
    }
   ],
   "source": [
    "False and a[0]==(0,0,0,0)"
   ]
  },
  {
   "cell_type": "code",
   "execution_count": 65,
   "id": "a07544ed",
   "metadata": {},
   "outputs": [],
   "source": [
    "if b==(0,0,0,0) and (a[0]==(0,0,0,0)).all():\n",
    "    print(1)"
   ]
  },
  {
   "cell_type": "code",
   "execution_count": 11,
   "id": "b7aabea6",
   "metadata": {},
   "outputs": [],
   "source": [
    "import pandas as pd\n",
    "import numpy as np"
   ]
  },
  {
   "cell_type": "code",
   "execution_count": 12,
   "id": "9e0c4802",
   "metadata": {},
   "outputs": [
    {
     "data": {
      "text/html": [
       "<div>\n",
       "<style scoped>\n",
       "    .dataframe tbody tr th:only-of-type {\n",
       "        vertical-align: middle;\n",
       "    }\n",
       "\n",
       "    .dataframe tbody tr th {\n",
       "        vertical-align: top;\n",
       "    }\n",
       "\n",
       "    .dataframe thead th {\n",
       "        text-align: right;\n",
       "    }\n",
       "</style>\n",
       "<table border=\"1\" class=\"dataframe\">\n",
       "  <thead>\n",
       "    <tr style=\"text-align: right;\">\n",
       "      <th></th>\n",
       "      <th>x</th>\n",
       "      <th>y</th>\n",
       "    </tr>\n",
       "  </thead>\n",
       "  <tbody>\n",
       "    <tr>\n",
       "      <th>0</th>\n",
       "      <td>1</td>\n",
       "      <td>1</td>\n",
       "    </tr>\n",
       "    <tr>\n",
       "      <th>1</th>\n",
       "      <td>2</td>\n",
       "      <td>1</td>\n",
       "    </tr>\n",
       "    <tr>\n",
       "      <th>2</th>\n",
       "      <td>1</td>\n",
       "      <td>2</td>\n",
       "    </tr>\n",
       "  </tbody>\n",
       "</table>\n",
       "</div>"
      ],
      "text/plain": [
       "   x  y\n",
       "0  1  1\n",
       "1  2  1\n",
       "2  1  2"
      ]
     },
     "execution_count": 12,
     "metadata": {},
     "output_type": "execute_result"
    }
   ],
   "source": [
    "A=pd.DataFrame({'x':[1,2,1],'y':[1,1,2]})\n",
    "A"
   ]
  },
  {
   "cell_type": "code",
   "execution_count": 13,
   "id": "948a57e4",
   "metadata": {},
   "outputs": [
    {
     "ename": "NameError",
     "evalue": "name 'a' is not defined",
     "output_type": "error",
     "traceback": [
      "\u001b[1;31m---------------------------------------------------------------------------\u001b[0m",
      "\u001b[1;31mNameError\u001b[0m                                 Traceback (most recent call last)",
      "Cell \u001b[1;32mIn[13], line 1\u001b[0m\n\u001b[1;32m----> 1\u001b[0m a\u001b[39m.\u001b[39mmean()\n",
      "\u001b[1;31mNameError\u001b[0m: name 'a' is not defined"
     ]
    }
   ],
   "source": [
    "a.mean()"
   ]
  },
  {
   "cell_type": "code",
   "execution_count": 4,
   "id": "5e592fad",
   "metadata": {},
   "outputs": [
    {
     "data": {
      "text/plain": [
       "'[{\"x\":1,\"y\":1},{\"x\":2,\"y\":1},{\"x\":1,\"y\":2}]'"
      ]
     },
     "execution_count": 4,
     "metadata": {},
     "output_type": "execute_result"
    }
   ],
   "source": [
    "a.to_json(orient = 'records')"
   ]
  },
  {
   "cell_type": "code",
   "execution_count": 7,
   "id": "6e1fbcdf",
   "metadata": {},
   "outputs": [
    {
     "data": {
      "text/plain": [
       "[{'x': 1, 'y': [1, 2]}, {'x': 2, 'y': 1}]"
      ]
     },
     "execution_count": 7,
     "metadata": {},
     "output_type": "execute_result"
    }
   ],
   "source": [
    "a=[{'x':1,'y':[1,2]},{'x':2,'y':1}]\n",
    "a"
   ]
  },
  {
   "cell_type": "code",
   "execution_count": 10,
   "id": "aa0b2bd1",
   "metadata": {},
   "outputs": [
    {
     "data": {
      "text/plain": [
       "2"
      ]
     },
     "execution_count": 10,
     "metadata": {},
     "output_type": "execute_result"
    }
   ],
   "source": [
    "a[1]['x']"
   ]
  },
  {
   "cell_type": "code",
   "execution_count": 20,
   "id": "db3bb486",
   "metadata": {},
   "outputs": [
    {
     "data": {
      "text/html": [
       "<div>\n",
       "<style scoped>\n",
       "    .dataframe tbody tr th:only-of-type {\n",
       "        vertical-align: middle;\n",
       "    }\n",
       "\n",
       "    .dataframe tbody tr th {\n",
       "        vertical-align: top;\n",
       "    }\n",
       "\n",
       "    .dataframe thead th {\n",
       "        text-align: right;\n",
       "    }\n",
       "</style>\n",
       "<table border=\"1\" class=\"dataframe\">\n",
       "  <thead>\n",
       "    <tr style=\"text-align: right;\">\n",
       "      <th></th>\n",
       "      <th>x</th>\n",
       "      <th>y</th>\n",
       "    </tr>\n",
       "  </thead>\n",
       "  <tbody>\n",
       "    <tr>\n",
       "      <th>0</th>\n",
       "      <td>1</td>\n",
       "      <td>1</td>\n",
       "    </tr>\n",
       "    <tr>\n",
       "      <th>2</th>\n",
       "      <td>1</td>\n",
       "      <td>2</td>\n",
       "    </tr>\n",
       "    <tr>\n",
       "      <th>1</th>\n",
       "      <td>2</td>\n",
       "      <td>1</td>\n",
       "    </tr>\n",
       "  </tbody>\n",
       "</table>\n",
       "</div>"
      ],
      "text/plain": [
       "   x  y\n",
       "0  1  1\n",
       "2  1  2\n",
       "1  2  1"
      ]
     },
     "execution_count": 20,
     "metadata": {},
     "output_type": "execute_result"
    }
   ],
   "source": [
    "A.sort_values(['x'])"
   ]
  },
  {
   "cell_type": "code",
   "execution_count": 19,
   "id": "0e3b533d",
   "metadata": {},
   "outputs": [
    {
     "data": {
      "text/plain": [
       "'[{\"x\":1,\"y\":1},{\"x\":2,\"y\":1},{\"x\":1,\"y\":2}]'"
      ]
     },
     "execution_count": 19,
     "metadata": {},
     "output_type": "execute_result"
    }
   ],
   "source": [
    "B=A.to_json(orient = 'records')\n",
    "B"
   ]
  },
  {
   "cell_type": "code",
   "execution_count": 18,
   "id": "01b7e97f",
   "metadata": {},
   "outputs": [
    {
     "ename": "ValueError",
     "evalue": "dictionary update sequence element #0 has length 1; 2 is required",
     "output_type": "error",
     "traceback": [
      "\u001b[1;31m---------------------------------------------------------------------------\u001b[0m",
      "\u001b[1;31mValueError\u001b[0m                                Traceback (most recent call last)",
      "Cell \u001b[1;32mIn[18], line 1\u001b[0m\n\u001b[1;32m----> 1\u001b[0m \u001b[39mdict\u001b[39;49m(B)\n",
      "\u001b[1;31mValueError\u001b[0m: dictionary update sequence element #0 has length 1; 2 is required"
     ]
    }
   ],
   "source": []
  },
  {
   "cell_type": "code",
   "execution_count": 16,
   "id": "4454075e",
   "metadata": {},
   "outputs": [],
   "source": [
    "a=A.to_dict('records')"
   ]
  },
  {
   "cell_type": "code",
   "execution_count": 17,
   "id": "0c01c1c2",
   "metadata": {},
   "outputs": [
    {
     "data": {
      "text/plain": [
       "{'x': 2, 'y': 1}"
      ]
     },
     "execution_count": 17,
     "metadata": {},
     "output_type": "execute_result"
    }
   ],
   "source": [
    "a[1]"
   ]
  },
  {
   "cell_type": "code",
   "execution_count": 29,
   "id": "66f37a4b",
   "metadata": {},
   "outputs": [],
   "source": [
    "B=A.groupby(['x']).apply(lambda x: x[['y']].to_dict('records')).reset_index()"
   ]
  },
  {
   "cell_type": "code",
   "execution_count": 32,
   "id": "2a109f35",
   "metadata": {},
   "outputs": [],
   "source": [
    "B.columns=['x','y']"
   ]
  },
  {
   "cell_type": "code",
   "execution_count": 34,
   "id": "937e075a",
   "metadata": {},
   "outputs": [
    {
     "data": {
      "text/html": [
       "<div>\n",
       "<style scoped>\n",
       "    .dataframe tbody tr th:only-of-type {\n",
       "        vertical-align: middle;\n",
       "    }\n",
       "\n",
       "    .dataframe tbody tr th {\n",
       "        vertical-align: top;\n",
       "    }\n",
       "\n",
       "    .dataframe thead th {\n",
       "        text-align: right;\n",
       "    }\n",
       "</style>\n",
       "<table border=\"1\" class=\"dataframe\">\n",
       "  <thead>\n",
       "    <tr style=\"text-align: right;\">\n",
       "      <th></th>\n",
       "      <th>x</th>\n",
       "      <th>y</th>\n",
       "    </tr>\n",
       "  </thead>\n",
       "  <tbody>\n",
       "    <tr>\n",
       "      <th>0</th>\n",
       "      <td>1</td>\n",
       "      <td>[{'y': 1}, {'y': 2}]</td>\n",
       "    </tr>\n",
       "    <tr>\n",
       "      <th>1</th>\n",
       "      <td>2</td>\n",
       "      <td>[{'y': 1}]</td>\n",
       "    </tr>\n",
       "  </tbody>\n",
       "</table>\n",
       "</div>"
      ],
      "text/plain": [
       "   x                     y\n",
       "0  1  [{'y': 1}, {'y': 2}]\n",
       "1  2            [{'y': 1}]"
      ]
     },
     "execution_count": 34,
     "metadata": {},
     "output_type": "execute_result"
    }
   ],
   "source": [
    "B"
   ]
  },
  {
   "cell_type": "code",
   "execution_count": 9,
   "id": "f8b04da7",
   "metadata": {},
   "outputs": [
    {
     "ename": "NameError",
     "evalue": "name 'B' is not defined",
     "output_type": "error",
     "traceback": [
      "\u001b[1;31m---------------------------------------------------------------------------\u001b[0m",
      "\u001b[1;31mNameError\u001b[0m                                 Traceback (most recent call last)",
      "Cell \u001b[1;32mIn[9], line 1\u001b[0m\n\u001b[1;32m----> 1\u001b[0m B\u001b[39m.\u001b[39mto_json(orient \u001b[39m=\u001b[39m \u001b[39m'\u001b[39m\u001b[39mrecords\u001b[39m\u001b[39m'\u001b[39m)\n",
      "\u001b[1;31mNameError\u001b[0m: name 'B' is not defined"
     ]
    }
   ],
   "source": [
    "B.to_json(orient = 'records')"
   ]
  },
  {
   "cell_type": "code",
   "execution_count": 35,
   "id": "4ff1e358",
   "metadata": {},
   "outputs": [
    {
     "data": {
      "text/plain": [
       "2"
      ]
     },
     "execution_count": 35,
     "metadata": {},
     "output_type": "execute_result"
    }
   ],
   "source": [
    "max(1,2)"
   ]
  },
  {
   "cell_type": "code",
   "execution_count": 37,
   "id": "94035df2",
   "metadata": {},
   "outputs": [
    {
     "data": {
      "text/plain": [
       "Index(['x'], dtype='object')"
      ]
     },
     "execution_count": 37,
     "metadata": {},
     "output_type": "execute_result"
    }
   ],
   "source": [
    "B.columns[:-1]"
   ]
  },
  {
   "cell_type": "code",
   "execution_count": 40,
   "id": "63dfe530",
   "metadata": {},
   "outputs": [],
   "source": [
    "a=-9\n",
    "b=1"
   ]
  },
  {
   "cell_type": "code",
   "execution_count": 43,
   "id": "84f5f15b",
   "metadata": {},
   "outputs": [
    {
     "name": "stdout",
     "output_type": "stream",
     "text": [
      "-9\n",
      "-8\n",
      "-7\n",
      "-6\n",
      "-5\n",
      "-4\n",
      "-3\n",
      "-2\n",
      "-1\n",
      "0\n"
     ]
    }
   ],
   "source": [
    "for i in range(a,b):\n",
    "    print(i)"
   ]
  },
  {
   "cell_type": "code",
   "execution_count": 1,
   "id": "02469520",
   "metadata": {},
   "outputs": [],
   "source": [
    "import pymongo"
   ]
  },
  {
   "cell_type": "code",
   "execution_count": 3,
   "id": "5bab3377",
   "metadata": {},
   "outputs": [],
   "source": [
    "mongo_client=pymongo.MongoClient(\"mongodb://{}:{}/\".format('localhost','27017'))"
   ]
  },
  {
   "cell_type": "code",
   "execution_count": 7,
   "id": "8ac85bd7",
   "metadata": {},
   "outputs": [
    {
     "data": {
      "text/plain": [
       "<pymongo.results.InsertManyResult at 0x20d6ac6a5c0>"
      ]
     },
     "execution_count": 7,
     "metadata": {},
     "output_type": "execute_result"
    }
   ],
   "source": [
    "mongo_client['eelabs']['map_values3'].insert_many([{'cola':2},{'cola':1}])"
   ]
  },
  {
   "cell_type": "code",
   "execution_count": 18,
   "id": "680a1b07",
   "metadata": {},
   "outputs": [
    {
     "data": {
      "text/plain": [
       "'grad_lat_-1_grad_lon_-1_min_lat_-1_min_lon_-1_sec_lat_-1_sec_lon_-1'"
      ]
     },
     "execution_count": 18,
     "metadata": {},
     "output_type": "execute_result"
    }
   ],
   "source": [
    "mongo_client['eelabs']['map_values2'].create_index([(\"grad_lat\", pymongo.DESCENDING),(\"grad_lon\", pymongo.DESCENDING),(\"min_lat\", pymongo.DESCENDING),(\"min_lon\", pymongo.DESCENDING),(\"sec_lat\", pymongo.DESCENDING),(\"sec_lon\", pymongo.DESCENDING)], unique=True)"
   ]
  },
  {
   "cell_type": "code",
   "execution_count": 20,
   "id": "96807e21",
   "metadata": {},
   "outputs": [],
   "source": [
    "def grado_a_radianes(alfa):\n",
    "    return alfa*2*np.pi/360"
   ]
  },
  {
   "cell_type": "code",
   "execution_count": 21,
   "id": "6d5ac9d0",
   "metadata": {},
   "outputs": [],
   "source": [
    "def equirectangular_to_mercator(longitude,latitude,zoom):\n",
    "    longitude=grado_a_radianes(longitude)\n",
    "    latitude=grado_a_radianes(latitude)\n",
    "\n",
    "    x=256*2**zoom*(np.pi+longitude)/(2*np.pi)\n",
    "    y=256*2**zoom*(np.pi-np.log(np.tan(np.pi/4+latitude/2)))/(2*np.pi)\n",
    "    return x,y"
   ]
  },
  {
   "cell_type": "code",
   "execution_count": 43,
   "id": "94524fb6",
   "metadata": {},
   "outputs": [
    {
     "data": {
      "text/plain": [
       "array([15., 15.])"
      ]
     },
     "execution_count": 43,
     "metadata": {},
     "output_type": "execute_result"
    }
   ],
   "source": [
    "np.floor(np.array(equirectangular_to_mercator(179.6,-84,4))/256)"
   ]
  },
  {
   "cell_type": "code",
   "execution_count": 41,
   "id": "a44bb1c0",
   "metadata": {},
   "outputs": [
    {
     "data": {
      "text/plain": [
       "(-9.3375, 40.97916666666667)"
      ]
     },
     "execution_count": 41,
     "metadata": {},
     "output_type": "execute_result"
    }
   ],
   "source": [
    "-(9+20/60+15/(60*60)),40+58/60+45/(60*60)"
   ]
  },
  {
   "cell_type": "code",
   "execution_count": 44,
   "id": "b09a5c49",
   "metadata": {},
   "outputs": [
    {
     "data": {
      "text/plain": [
       "array([7., 6.])"
      ]
     },
     "execution_count": 44,
     "metadata": {},
     "output_type": "execute_result"
    }
   ],
   "source": [
    "np.floor(np.array(equirectangular_to_mercator(-(9+20/60+15/(60*60)),40+58/60+45/(60*60),4))/256)"
   ]
  },
  {
   "cell_type": "code",
   "execution_count": 94,
   "id": "740e884f",
   "metadata": {},
   "outputs": [],
   "source": [
    "def Degree_decimal_to_degree_hexadecimal(degree_decimal): #Borja\n",
    "            degree=np.trunc(degree_decimal).astype('int') #Borja\n",
    "            minute_decimal=(degree_decimal-degree)*60 #Borja\n",
    "            minute=np.trunc(minute_decimal).astype('int') #Borja\n",
    "            second=np.trunc((minute_decimal-minute)*60).astype('int')#Borja\n",
    "            return (degree,minute,second) #Borja"
   ]
  },
  {
   "cell_type": "code",
   "execution_count": 111,
   "id": "ab0c0279",
   "metadata": {},
   "outputs": [],
   "source": [
    "def Degree_decimal_to_degree_hexadecimal(degree_decimal): #Borja\n",
    "            degree=np.floor(degree_decimal).astype('int') #Borja\n",
    "            minute_decimal=(degree_decimal-degree)*60 #Borja\n",
    "            minute=np.floor(minute_decimal).astype('int') #Borja\n",
    "            second=np.floor((minute_decimal-minute)*60).astype('int')#Borja\n",
    "            return (degree,minute,second) #Borja"
   ]
  },
  {
   "cell_type": "code",
   "execution_count": 84,
   "id": "c296a773",
   "metadata": {},
   "outputs": [
    {
     "data": {
      "text/plain": [
       "(-1, -42, 0)"
      ]
     },
     "execution_count": 84,
     "metadata": {},
     "output_type": "execute_result"
    }
   ],
   "source": [
    "Degree_decimal_to_degree_hexadecimal(-1.7)"
   ]
  },
  {
   "cell_type": "code",
   "execution_count": 61,
   "id": "024b87f0",
   "metadata": {},
   "outputs": [
    {
     "data": {
      "text/plain": [
       "0"
      ]
     },
     "execution_count": 61,
     "metadata": {},
     "output_type": "execute_result"
    }
   ],
   "source": [
    "int()"
   ]
  },
  {
   "cell_type": "code",
   "execution_count": 112,
   "id": "f9726f3b",
   "metadata": {},
   "outputs": [
    {
     "name": "stdout",
     "output_type": "stream",
     "text": [
      "[-10, 30, 0]\n"
     ]
    }
   ],
   "source": [
    "lat=list(Degree_decimal_to_degree_hexadecimal(-9.5)) #Borja\n",
    "print(lat)\n",
    "lat[2]=int(np.floor(lat[2]/15)*15) #Borja\n",
    "lng=list(Degree_decimal_to_degree_hexadecimal(0)) #Borja\n",
    "lng[2]=int(np.floor(lng[2]/15)*15)"
   ]
  },
  {
   "cell_type": "code",
   "execution_count": 114,
   "id": "5f59d7c2",
   "metadata": {},
   "outputs": [
    {
     "name": "stdout",
     "output_type": "stream",
     "text": [
      "[-10, 35, 59]\n"
     ]
    }
   ],
   "source": [
    "lat=list(Degree_decimal_to_degree_hexadecimal(-9.4)) #Borja\n",
    "print(lat)\n",
    "lat[2]=int(np.floor(lat[2]/15)*15) #Borja\n",
    "lng=list(Degree_decimal_to_degree_hexadecimal(0)) #Borja\n",
    "lng[2]=int(np.floor(lng[2]/15)*15)"
   ]
  },
  {
   "cell_type": "code",
   "execution_count": 115,
   "id": "86cacf4e",
   "metadata": {},
   "outputs": [
    {
     "name": "stdout",
     "output_type": "stream",
     "text": [
      "[-10, 41, 59]\n"
     ]
    }
   ],
   "source": [
    "lat=list(Degree_decimal_to_degree_hexadecimal(-9.3)) #Borja\n",
    "print(lat)\n"
   ]
  },
  {
   "cell_type": "code",
   "execution_count": 130,
   "id": "829be794",
   "metadata": {},
   "outputs": [
    {
     "name": "stdout",
     "output_type": "stream",
     "text": [
      "[-10, 52, 48]\n"
     ]
    }
   ],
   "source": [
    "lat=list(Degree_decimal_to_degree_hexadecimal(-9.12)) #Borja\n",
    "print(lat)\n"
   ]
  },
  {
   "cell_type": "code",
   "execution_count": 131,
   "id": "644d70c2",
   "metadata": {},
   "outputs": [
    {
     "data": {
      "text/plain": [
       "-9.12"
      ]
     },
     "execution_count": 131,
     "metadata": {},
     "output_type": "execute_result"
    }
   ],
   "source": [
    "lat[0]+lat[1]/60+lat[2]/60/60"
   ]
  },
  {
   "cell_type": "code",
   "execution_count": 2,
   "id": "b2785296",
   "metadata": {},
   "outputs": [
    {
     "data": {
      "text/plain": [
       "1024.0"
      ]
     },
     "execution_count": 2,
     "metadata": {},
     "output_type": "execute_result"
    }
   ],
   "source": [
    "2**14/16"
   ]
  },
  {
   "cell_type": "code",
   "execution_count": 3,
   "id": "1fee473c",
   "metadata": {},
   "outputs": [],
   "source": [
    "h=7360\n",
    "v=6818"
   ]
  },
  {
   "cell_type": "code",
   "execution_count": 11,
   "id": "aa59bd9c",
   "metadata": {},
   "outputs": [],
   "source": [
    "import numpy as np\n",
    "import pandas as pd"
   ]
  },
  {
   "cell_type": "code",
   "execution_count": 3,
   "id": "679d310d",
   "metadata": {},
   "outputs": [
    {
     "data": {
      "text/plain": [
       "21.59402150411922"
      ]
     },
     "execution_count": 3,
     "metadata": {},
     "output_type": "execute_result"
    }
   ],
   "source": [
    "np.log10(0.2)*-0.95+20.93"
   ]
  },
  {
   "cell_type": "code",
   "execution_count": 11,
   "id": "f26fced3",
   "metadata": {},
   "outputs": [],
   "source": [
    "def radiacion_a_mag(rad):\n",
    "    a=np.round(np.log10(rad)*-0.95+20.93,2) #CAMBIAR EN CASO DE CAMBIO DE AJUSTE\n",
    "    a[rad==0]=22\n",
    "    a[a>22]=22\n",
    "    return a"
   ]
  },
  {
   "cell_type": "code",
   "execution_count": 12,
   "id": "7c2448aa",
   "metadata": {},
   "outputs": [
    {
     "data": {
      "text/plain": [
       "array([21.88])"
      ]
     },
     "execution_count": 12,
     "metadata": {},
     "output_type": "execute_result"
    }
   ],
   "source": [
    "radiacion_a_mag(np.array([0.1]))"
   ]
  },
  {
   "cell_type": "code",
   "execution_count": 10,
   "id": "59637c4b",
   "metadata": {},
   "outputs": [
    {
     "data": {
      "text/plain": [
       "21.88"
      ]
     },
     "execution_count": 10,
     "metadata": {},
     "output_type": "execute_result"
    }
   ],
   "source": [
    "g"
   ]
  },
  {
   "cell_type": "code",
   "execution_count": 5,
   "id": "1d693dd3",
   "metadata": {},
   "outputs": [
    {
     "data": {
      "text/plain": [
       "array({1}, dtype=object)"
      ]
     },
     "execution_count": 5,
     "metadata": {},
     "output_type": "execute_result"
    }
   ],
   "source": [
    "np.array(set([1]))"
   ]
  },
  {
   "cell_type": "code",
   "execution_count": 4,
   "id": "ddd3080c",
   "metadata": {},
   "outputs": [],
   "source": [
    "a=1"
   ]
  },
  {
   "cell_type": "code",
   "execution_count": 5,
   "id": "af51afb8",
   "metadata": {},
   "outputs": [],
   "source": [
    "if a==1:\n",
    "    a=2\n",
    "elif a==2:\n",
    "    print('a')"
   ]
  },
  {
   "cell_type": "code",
   "execution_count": 6,
   "id": "5b7e725c",
   "metadata": {},
   "outputs": [],
   "source": [
    "def radiacion_a_mag(rad):\n",
    "    a=np.round(np.log10(rad)*-0.95+20.93,2)\n",
    "    a[rad==0]=22\n",
    "    a[a>22]=22\n",
    "    return a "
   ]
  },
  {
   "cell_type": "code",
   "execution_count": 13,
   "id": "aedaa1f9",
   "metadata": {},
   "outputs": [
    {
     "data": {
      "text/plain": [
       "array([21.22])"
      ]
     },
     "execution_count": 13,
     "metadata": {},
     "output_type": "execute_result"
    }
   ],
   "source": [
    "radiacion_a_mag([0.5])"
   ]
  },
  {
   "cell_type": "code",
   "execution_count": 1,
   "id": "4346a6f6",
   "metadata": {},
   "outputs": [
    {
     "data": {
      "text/plain": [
       "[0, 1, 2, 3, 4, 5, 6, 7, 8, 9, 10, 11, 12, 13, 14, 15]"
      ]
     },
     "execution_count": 1,
     "metadata": {},
     "output_type": "execute_result"
    }
   ],
   "source": [
    "list(range(0,16))"
   ]
  },
  {
   "cell_type": "code",
   "execution_count": 21,
   "id": "99c26ea6",
   "metadata": {},
   "outputs": [
    {
     "data": {
      "text/plain": [
       "set()"
      ]
     },
     "execution_count": 21,
     "metadata": {},
     "output_type": "execute_result"
    }
   ],
   "source": [
    "set()"
   ]
  },
  {
   "cell_type": "code",
   "execution_count": 2,
   "id": "bfc97b31",
   "metadata": {},
   "outputs": [
    {
     "data": {
      "text/plain": [
       "(256, 256)"
      ]
     },
     "execution_count": 2,
     "metadata": {},
     "output_type": "execute_result"
    }
   ],
   "source": [
    "I=Image.open(r'C:\\Users\\borja\\Downloads\\V1\\mapa\\tiles\\9\\h233v214.png')\n",
    "I.size"
   ]
  },
  {
   "cell_type": "code",
   "execution_count": 10,
   "id": "da9cf9c9",
   "metadata": {},
   "outputs": [],
   "source": [
    "import re\n"
   ]
  },
  {
   "cell_type": "code",
   "execution_count": 3,
   "id": "9e490f23",
   "metadata": {},
   "outputs": [
    {
     "data": {
      "image/png": "[encoded data removed]",
      "text/plain": [
       "<PIL.PngImagePlugin.PngImageFile image mode=RGBA size=256x256 at 0x2B93CFBA100>"
      ]
     },
     "execution_count": 3,
     "metadata": {},
     "output_type": "execute_result"
    }
   ],
   "source": [
    "I"
   ]
  },
  {
   "cell_type": "code",
   "execution_count": 12,
   "id": "62442d2f",
   "metadata": {},
   "outputs": [
    {
     "data": {
      "text/plain": [
       "'233'"
      ]
     },
     "execution_count": 12,
     "metadata": {},
     "output_type": "execute_result"
    }
   ],
   "source": [
    "re.split('v|h|_|.p', 'h233v214.png')[1]"
   ]
  },
  {
   "cell_type": "code",
   "execution_count": 23,
   "id": "93e25b3b",
   "metadata": {},
   "outputs": [],
   "source": [
    "zoom=13"
   ]
  },
  {
   "cell_type": "code",
   "execution_count": 24,
   "id": "cd238f07",
   "metadata": {},
   "outputs": [],
   "source": [
    "d=256/2**(zoom-9)\n",
    "patches = patchify(np.array(I), (d,d,4), step=int(d))"
   ]
  },
  {
   "cell_type": "code",
   "execution_count": 25,
   "id": "ef9665cc",
   "metadata": {},
   "outputs": [
    {
     "ename": "IndexError",
     "evalue": "index 29 is out of bounds for axis 0 with size 16",
     "output_type": "error",
     "traceback": [
      "\u001b[1;31m---------------------------------------------------------------------------\u001b[0m",
      "\u001b[1;31mIndexError\u001b[0m                                Traceback (most recent call last)",
      "Cell \u001b[1;32mIn[25], line 1\u001b[0m\n\u001b[1;32m----> 1\u001b[0m patches[\u001b[39m29\u001b[39;49m,\u001b[39m26\u001b[39;49m,:,:][\u001b[39m0\u001b[39m]\n",
      "\u001b[1;31mIndexError\u001b[0m: index 29 is out of bounds for axis 0 with size 16"
     ]
    }
   ],
   "source": [
    "patches[29,26,:,:][0]"
   ]
  },
  {
   "cell_type": "code",
   "execution_count": 17,
   "id": "ac5a70a4",
   "metadata": {},
   "outputs": [
    {
     "data": {
      "text/plain": [
       "array([[207, 207, 243, 138, 138,  56,  56,  56],\n",
       "       [207, 207, 243, 138, 138,  56,  56,  56],\n",
       "       [213, 213, 243, 138, 138,  52,  48,  48],\n",
       "       [215, 215, 120,  42,  42,  42,  38,  38],\n",
       "       [215, 215, 120,  42,  42,  42,  38,  38],\n",
       "       [233, 233, 233, 233, 233, 233, 233, 233],\n",
       "       [233, 233, 233, 233, 233, 233, 233, 233],\n",
       "       [233, 233, 233, 233, 233, 233, 233, 233]], dtype=uint8)"
      ]
     },
     "execution_count": 17,
     "metadata": {},
     "output_type": "execute_result"
    }
   ],
   "source": [
    "patches[29,26,:,:][0][:,:,0]#.reshape([-1])"
   ]
  },
  {
   "cell_type": "code",
   "execution_count": 133,
   "id": "676fb5fb",
   "metadata": {},
   "outputs": [
    {
     "data": {
      "image/png": "[encoded data removed]",
      "text/plain": [
       "<PIL.Image.Image image mode=RGBA size=8x8 at 0x1EB19714280>"
      ]
     },
     "execution_count": 133,
     "metadata": {},
     "output_type": "execute_result"
    }
   ],
   "source": [
    "Image.fromarray(patches[29,26,:,:][0])"
   ]
  },
  {
   "cell_type": "code",
   "execution_count": 8,
   "id": "3285927f",
   "metadata": {},
   "outputs": [],
   "source": [
    "#a=0\n",
    "for i in range(0,32):\n",
    "    for ii in range(0,32):\n",
    "        newname='h'+str(233*2**(zoom-9)+i)+'v'+str(214*2**(zoom-9)+ii)+'.png'\n",
    "        image=Image.fromarray(patches[ii,i,:,:][0])\n",
    "        image = image.resize((256,256), Image.NEAREST)\n",
    "        image.save(r'C:\\Users\\borja\\Downloads\\V1\\mapa\\tiles\\exp3'+'\\\\'+newname)\n",
    "        # a=a+1\n",
    "        # print(newname)\n"
   ]
  },
  {
   "cell_type": "code",
   "execution_count": null,
   "id": "7fec6e24",
   "metadata": {},
   "outputs": [],
   "source": [
    "def Dividir(tesela):\n",
    "    I=Image.open(r'C:\\Users\\borja\\Downloads\\V1\\mapa\\tiles\\9'+'\\\\'+tesela)\n",
    "    d=256/2**(zoom-9)\n",
    "    patches = patchify(np.array(I), (d,d,4), step=int(d))\n",
    "    for i in range(0,32):\n",
    "        for ii in range(0,32):\n",
    "            newname='h'+str(233*2**(zoom-9)+i)+'v'+str(214*2**(zoom-9)+ii)+'.png'\n",
    "            image=Image.fromarray(patches[ii,i,:,:][0])\n",
    "            image = image.resize((256,256), Image.NEAREST)\n",
    "            image.save(r'C:\\Users\\borja\\Downloads\\V1\\mapa\\tiles\\exp3'+'\\\\'+newname)\n",
    "\n",
    "    "
   ]
  },
  {
   "cell_type": "code",
   "execution_count": null,
   "id": "38223c22",
   "metadata": {},
   "outputs": [],
   "source": [
    "newname='h'+str(233*2**(14-9)+v[3]-1)+'v'+str(214*2**(14-9)+v[2]-1)+'.png'"
   ]
  },
  {
   "cell_type": "code",
   "execution_count": 98,
   "id": "5eb3875c",
   "metadata": {},
   "outputs": [],
   "source": [
    "from matplotlib import pyplot as plt"
   ]
  },
  {
   "cell_type": "code",
   "execution_count": 85,
   "id": "617ac498",
   "metadata": {},
   "outputs": [
    {
     "data": {
      "text/plain": [
       "<matplotlib.image.AxesImage at 0x1eb14208e50>"
      ]
     },
     "execution_count": 85,
     "metadata": {},
     "output_type": "execute_result"
    },
    {
     "data": {
      "image/png": "[encoded data removed]",
      "text/plain": [
       "<Figure size 640x480 with 1 Axes>"
      ]
     },
     "metadata": {},
     "output_type": "display_data"
    }
   ],
   "source": [
    "plt.imshow(np.array(I))"
   ]
  },
  {
   "cell_type": "code",
   "execution_count": 123,
   "id": "e810a9ad",
   "metadata": {},
   "outputs": [
    {
     "data": {
      "text/plain": [
       "<matplotlib.image.AxesImage at 0x1eb196f9640>"
      ]
     },
     "execution_count": 123,
     "metadata": {},
     "output_type": "execute_result"
    },
    {
     "data": {
      "image/png": "[encoded data removed]",
      "text/plain": [
       "<Figure size 640x480 with 1 Axes>"
      ]
     },
     "metadata": {},
     "output_type": "display_data"
    }
   ],
   "source": [
    "plt.imshow(patches[29,26,:,:][0])"
   ]
  },
  {
   "cell_type": "markdown",
   "id": "c5c3d9e3",
   "metadata": {},
   "source": [
    "# AQUI"
   ]
  },
  {
   "cell_type": "code",
   "execution_count": 69,
   "id": "b6171b5f",
   "metadata": {},
   "outputs": [],
   "source": [
    "from patchify import patchify\n",
    "from PIL import Image\n",
    "import numpy as np"
   ]
  },
  {
   "cell_type": "code",
   "execution_count": 64,
   "id": "9fba813f",
   "metadata": {},
   "outputs": [],
   "source": [
    "zoom=9"
   ]
  },
  {
   "cell_type": "code",
   "execution_count": 67,
   "id": "ac71b7d5",
   "metadata": {},
   "outputs": [],
   "source": [
    "def Add_zero(a):\n",
    "    if a<10:\n",
    "        return ('0'+str(a))\n",
    "    else:\n",
    "        return str(a)"
   ]
  },
  {
   "cell_type": "code",
   "execution_count": 137,
   "id": "e7f7ae8e",
   "metadata": {},
   "outputs": [],
   "source": [
    "def Abrir_img(i,ii):\n",
    "    tesela='h'+Add_zero(i)+'v'+Add_zero(ii)+'.png'\n",
    "    try:\n",
    "        I=Image.open(r'C:\\Users\\borja\\Downloads\\V5\\mapa\\tiles\\9'+'\\\\'+tesela)\n",
    "        I=I.resize((128,128))\n",
    "    except:\n",
    "        I=Image.open(r'C:\\Users\\borja\\Downloads\\V5\\mapa\\tiles\\9'+'\\\\'+'h'+Add_zero(255)+'v'+Add_zero(214)+'.png')\n",
    "        I=I.resize((128,128))\n",
    "    return I\n"
   ]
  },
  {
   "cell_type": "code",
   "execution_count": 149,
   "id": "45c7b7ce",
   "metadata": {},
   "outputs": [
    {
     "ename": "KeyboardInterrupt",
     "evalue": "",
     "output_type": "error",
     "traceback": [
      "\u001b[1;31m---------------------------------------------------------------------------\u001b[0m",
      "\u001b[1;31mAttributeError\u001b[0m                            Traceback (most recent call last)",
      "File \u001b[1;32mc:\\Users\\borja\\anaconda3\\envs\\EELabs2\\lib\\site-packages\\PIL\\ImageFile.py:506\u001b[0m, in \u001b[0;36m_save\u001b[1;34m(im, fp, tile, bufsize)\u001b[0m\n\u001b[0;32m    505\u001b[0m \u001b[39mtry\u001b[39;00m:\n\u001b[1;32m--> 506\u001b[0m     fh \u001b[39m=\u001b[39m fp\u001b[39m.\u001b[39;49mfileno()\n\u001b[0;32m    507\u001b[0m     fp\u001b[39m.\u001b[39mflush()\n",
      "\u001b[1;31mAttributeError\u001b[0m: '_idat' object has no attribute 'fileno'",
      "\nDuring handling of the above exception, another exception occurred:\n",
      "\u001b[1;31mKeyboardInterrupt\u001b[0m                         Traceback (most recent call last)",
      "Cell \u001b[1;32mIn[149], line 8\u001b[0m\n\u001b[0;32m      6\u001b[0m I\u001b[39m.\u001b[39mpaste(Abrir_img(i,ii\u001b[39m+\u001b[39m\u001b[39m1\u001b[39m),(\u001b[39m0\u001b[39m,\u001b[39m128\u001b[39m))\n\u001b[0;32m      7\u001b[0m I\u001b[39m.\u001b[39mpaste(Abrir_img(i\u001b[39m+\u001b[39m\u001b[39m1\u001b[39m,ii\u001b[39m+\u001b[39m\u001b[39m1\u001b[39m),(\u001b[39m128\u001b[39m,\u001b[39m128\u001b[39m))\n\u001b[1;32m----> 8\u001b[0m I\u001b[39m.\u001b[39;49msave(\u001b[39mr\u001b[39;49m\u001b[39m'\u001b[39;49m\u001b[39mC:\u001b[39;49m\u001b[39m\\\u001b[39;49m\u001b[39mUsers\u001b[39;49m\u001b[39m\\\u001b[39;49m\u001b[39mborja\u001b[39;49m\u001b[39m\\\u001b[39;49m\u001b[39mDownloads\u001b[39;49m\u001b[39m\\\u001b[39;49m\u001b[39mV5\u001b[39;49m\u001b[39m\\\u001b[39;49m\u001b[39mmapa\u001b[39;49m\u001b[39m\\\u001b[39;49m\u001b[39mtiles\u001b[39;49m\u001b[39m\\\u001b[39;49m\u001b[39mexp\u001b[39;49m\u001b[39m'\u001b[39;49m\u001b[39m+\u001b[39;49m\u001b[39m'\u001b[39;49m\u001b[39m\\\\\u001b[39;49;00m\u001b[39m'\u001b[39;49m\u001b[39m+\u001b[39;49m\u001b[39mstr\u001b[39;49m(i)\u001b[39m+\u001b[39;49m\u001b[39mstr\u001b[39;49m(ii)\u001b[39m+\u001b[39;49m\u001b[39m'\u001b[39;49m\u001b[39m.png\u001b[39;49m\u001b[39m'\u001b[39;49m)\n",
      "File \u001b[1;32mc:\\Users\\borja\\anaconda3\\envs\\EELabs2\\lib\\site-packages\\PIL\\Image.py:2158\u001b[0m, in \u001b[0;36mImage.save\u001b[1;34m(self, fp, format, **params)\u001b[0m\n\u001b[0;32m   2155\u001b[0m         fp \u001b[39m=\u001b[39m builtins\u001b[39m.\u001b[39mopen(filename, \u001b[39m\"\u001b[39m\u001b[39mw+b\u001b[39m\u001b[39m\"\u001b[39m)\n\u001b[0;32m   2157\u001b[0m \u001b[39mtry\u001b[39;00m:\n\u001b[1;32m-> 2158\u001b[0m     save_handler(\u001b[39mself\u001b[39;49m, fp, filename)\n\u001b[0;32m   2159\u001b[0m \u001b[39mfinally\u001b[39;00m:\n\u001b[0;32m   2160\u001b[0m     \u001b[39m# do what we can to clean up\u001b[39;00m\n\u001b[0;32m   2161\u001b[0m     \u001b[39mif\u001b[39;00m open_fp:\n",
      "File \u001b[1;32mc:\\Users\\borja\\anaconda3\\envs\\EELabs2\\lib\\site-packages\\PIL\\PngImagePlugin.py:1284\u001b[0m, in \u001b[0;36m_save\u001b[1;34m(im, fp, filename, chunk, save_all)\u001b[0m\n\u001b[0;32m   1282\u001b[0m     _write_multiple_frames(im, fp, chunk, rawmode)\n\u001b[0;32m   1283\u001b[0m \u001b[39melse\u001b[39;00m:\n\u001b[1;32m-> 1284\u001b[0m     ImageFile\u001b[39m.\u001b[39;49m_save(im, _idat(fp, chunk), [(\u001b[39m\"\u001b[39;49m\u001b[39mzip\u001b[39;49m\u001b[39m\"\u001b[39;49m, (\u001b[39m0\u001b[39;49m, \u001b[39m0\u001b[39;49m) \u001b[39m+\u001b[39;49m im\u001b[39m.\u001b[39;49msize, \u001b[39m0\u001b[39;49m, rawmode)])\n\u001b[0;32m   1286\u001b[0m chunk(fp, \u001b[39mb\u001b[39m\u001b[39m\"\u001b[39m\u001b[39mIEND\u001b[39m\u001b[39m\"\u001b[39m, \u001b[39mb\u001b[39m\u001b[39m\"\u001b[39m\u001b[39m\"\u001b[39m)\n\u001b[0;32m   1288\u001b[0m \u001b[39mif\u001b[39;00m \u001b[39mhasattr\u001b[39m(fp, \u001b[39m\"\u001b[39m\u001b[39mflush\u001b[39m\u001b[39m\"\u001b[39m):\n",
      "File \u001b[1;32mc:\\Users\\borja\\anaconda3\\envs\\EELabs2\\lib\\site-packages\\PIL\\ImageFile.py:520\u001b[0m, in \u001b[0;36m_save\u001b[1;34m(im, fp, tile, bufsize)\u001b[0m\n\u001b[0;32m    518\u001b[0m \u001b[39melse\u001b[39;00m:\n\u001b[0;32m    519\u001b[0m     \u001b[39mwhile\u001b[39;00m \u001b[39mTrue\u001b[39;00m:\n\u001b[1;32m--> 520\u001b[0m         l, s, d \u001b[39m=\u001b[39m e\u001b[39m.\u001b[39;49mencode(bufsize)\n\u001b[0;32m    521\u001b[0m         fp\u001b[39m.\u001b[39mwrite(d)\n\u001b[0;32m    522\u001b[0m         \u001b[39mif\u001b[39;00m s:\n",
      "\u001b[1;31mKeyboardInterrupt\u001b[0m: "
     ]
    }
   ],
   "source": [
    "for i in np.array(range(232,2**(zoom)))[::2]:\n",
    "    for ii in np.array(range(202,2**(zoom)))[::2]:\n",
    "        I=Image.new(\"RGB\", (256, 256), \"white\")\n",
    "        I.paste(Abrir_img(i+1,ii),(0,0))\n",
    "        I.paste(Abrir_img(i+1,ii),(128,0))\n",
    "        I.paste(Abrir_img(i,ii+1),(0,128))\n",
    "        I.paste(Abrir_img(i+1,ii+1),(128,128))\n",
    "        I.save(r'C:\\Users\\borja\\Downloads\\V5\\mapa\\tiles\\exp'+'\\\\'+str(i)+str(ii)+'.png')"
   ]
  },
  {
   "cell_type": "code",
   "execution_count": 117,
   "id": "ba79bb51",
   "metadata": {},
   "outputs": [],
   "source": [
    "img2 = Image.new(\"RGB\", (256, 256), \"white\")"
   ]
  },
  {
   "cell_type": "code",
   "execution_count": 148,
   "id": "71706b9d",
   "metadata": {},
   "outputs": [
    {
     "data": {
      "image/png": "[encoded data removed]",
      "text/plain": [
       "<PIL.Image.Image image mode=RGBA size=128x128 at 0x2B943C32BB0>"
      ]
     },
     "execution_count": 148,
     "metadata": {},
     "output_type": "execute_result"
    }
   ],
   "source": [
    "Abrir_img(255,202)"
   ]
  },
  {
   "cell_type": "code",
   "execution_count": 119,
   "id": "7c637677",
   "metadata": {},
   "outputs": [
    {
     "data": {
      "image/png": "[encoded data removed]",
      "text/plain": [
       "<PIL.PngImagePlugin.PngImageFile image mode=RGBA size=256x256 at 0x2B943450A00>"
      ]
     },
     "execution_count": 119,
     "metadata": {},
     "output_type": "execute_result"
    }
   ],
   "source": [
    "I=Image.open(r'C:\\Users\\borja\\Downloads\\V5\\mapa\\tiles\\9'+'\\\\'+'h'+Add_zero(255)+'v'+Add_zero(214)+'.png')\n",
    "I"
   ]
  },
  {
   "cell_type": "code",
   "execution_count": 120,
   "id": "b7b09b4d",
   "metadata": {},
   "outputs": [
    {
     "name": "stdout",
     "output_type": "stream",
     "text": [
      "None\n"
     ]
    }
   ],
   "source": [
    "img2.paste(I,(0,0))\n"
   ]
  },
  {
   "cell_type": "code",
   "execution_count": 26,
   "id": "444bed65",
   "metadata": {},
   "outputs": [
    {
     "data": {
      "text/plain": [
       "(16, 16, 1, 16, 16, 4)"
      ]
     },
     "execution_count": 26,
     "metadata": {},
     "output_type": "execute_result"
    }
   ],
   "source": [
    "patches.shape"
   ]
  },
  {
   "cell_type": "code",
   "execution_count": 75,
   "id": "6b01075b",
   "metadata": {},
   "outputs": [
    {
     "data": {
      "text/plain": [
       "array([  0,   2,   4,   6,   8,  10,  12,  14,  16,  18,  20,  22,  24,\n",
       "        26,  28,  30,  32,  34,  36,  38,  40,  42,  44,  46,  48,  50,\n",
       "        52,  54,  56,  58,  60,  62,  64,  66,  68,  70,  72,  74,  76,\n",
       "        78,  80,  82,  84,  86,  88,  90,  92,  94,  96,  98, 100, 102,\n",
       "       104, 106, 108, 110, 112, 114, 116, 118, 120, 122, 124, 126, 128,\n",
       "       130, 132, 134, 136, 138, 140, 142, 144, 146, 148, 150, 152, 154,\n",
       "       156, 158, 160, 162, 164, 166, 168, 170, 172, 174, 176, 178, 180,\n",
       "       182, 184, 186, 188, 190, 192, 194, 196, 198, 200, 202, 204, 206,\n",
       "       208, 210, 212, 214, 216, 218, 220, 222, 224, 226, 228, 230, 232,\n",
       "       234, 236, 238, 240, 242, 244, 246, 248, 250, 252, 254, 256, 258,\n",
       "       260, 262, 264, 266, 268, 270, 272, 274, 276, 278, 280, 282, 284,\n",
       "       286, 288, 290, 292, 294, 296, 298, 300, 302, 304, 306, 308, 310,\n",
       "       312, 314, 316, 318, 320, 322, 324, 326, 328, 330, 332, 334, 336,\n",
       "       338, 340, 342, 344, 346, 348, 350, 352, 354, 356, 358, 360, 362,\n",
       "       364, 366, 368, 370, 372, 374, 376, 378, 380, 382, 384, 386, 388,\n",
       "       390, 392, 394, 396, 398, 400, 402, 404, 406, 408, 410, 412, 414,\n",
       "       416, 418, 420, 422, 424, 426, 428, 430, 432, 434, 436, 438, 440,\n",
       "       442, 444, 446, 448, 450, 452, 454, 456, 458, 460, 462, 464, 466,\n",
       "       468, 470, 472, 474, 476, 478, 480, 482, 484, 486, 488, 490, 492,\n",
       "       494, 496, 498, 500, 502, 504, 506, 508, 510])"
      ]
     },
     "execution_count": 75,
     "metadata": {},
     "output_type": "execute_result"
    }
   ],
   "source": [
    "np.array(range(0,2**(zoom)))[::2]"
   ]
  },
  {
   "cell_type": "code",
   "execution_count": 27,
   "id": "7ad6cc62",
   "metadata": {},
   "outputs": [
    {
     "data": {
      "text/plain": [
       "16"
      ]
     },
     "execution_count": 27,
     "metadata": {},
     "output_type": "execute_result"
    }
   ],
   "source": [
    "2**(13-9)"
   ]
  },
  {
   "cell_type": "code",
   "execution_count": 29,
   "id": "9d4c9af9",
   "metadata": {},
   "outputs": [
    {
     "data": {
      "text/plain": [
       "{1, 2}"
      ]
     },
     "execution_count": 29,
     "metadata": {},
     "output_type": "execute_result"
    }
   ],
   "source": [
    "set({1,2})-set({3})"
   ]
  },
  {
   "cell_type": "code",
   "execution_count": 33,
   "id": "c839bdc0",
   "metadata": {},
   "outputs": [
    {
     "data": {
      "text/plain": [
       "[10, 11, 12, 13, 14]"
      ]
     },
     "execution_count": 33,
     "metadata": {},
     "output_type": "execute_result"
    }
   ],
   "source": [
    "list(range(10,15))"
   ]
  },
  {
   "cell_type": "code",
   "execution_count": 35,
   "id": "1a594d03",
   "metadata": {},
   "outputs": [],
   "source": [
    "import pandas as pd"
   ]
  },
  {
   "cell_type": "code",
   "execution_count": 36,
   "id": "a65bfde3",
   "metadata": {},
   "outputs": [],
   "source": [
    "a=pd.DataFrame()"
   ]
  },
  {
   "cell_type": "code",
   "execution_count": 37,
   "id": "176a1f05",
   "metadata": {},
   "outputs": [],
   "source": [
    "a['A']=[1,2,3]"
   ]
  },
  {
   "cell_type": "code",
   "execution_count": 38,
   "id": "58fc19f3",
   "metadata": {},
   "outputs": [],
   "source": [
    "a['B']=[5,5,5]"
   ]
  },
  {
   "cell_type": "code",
   "execution_count": 42,
   "id": "14d8bb00",
   "metadata": {},
   "outputs": [],
   "source": [
    "a['C']=['a','b','c']"
   ]
  },
  {
   "cell_type": "code",
   "execution_count": 43,
   "id": "1e338f0f",
   "metadata": {},
   "outputs": [
    {
     "data": {
      "text/plain": [
       "array([[1, 5, 'a'],\n",
       "       [2, 5, 'b'],\n",
       "       [3, 5, 'c']], dtype=object)"
      ]
     },
     "execution_count": 43,
     "metadata": {},
     "output_type": "execute_result"
    }
   ],
   "source": [
    "a.values"
   ]
  },
  {
   "cell_type": "code",
   "execution_count": 48,
   "id": "be342d59",
   "metadata": {},
   "outputs": [
    {
     "data": {
      "text/plain": [
       "[1, 2, 'a']"
      ]
     },
     "execution_count": 48,
     "metadata": {},
     "output_type": "execute_result"
    }
   ],
   "source": [
    "[1,2]+['a']"
   ]
  },
  {
   "cell_type": "code",
   "execution_count": null,
   "id": "0ece94a1",
   "metadata": {},
   "outputs": [],
   "source": []
  }
 ],
 "metadata": {
  "kernelspec": {
   "display_name": "Python 3 (ipykernel)",
   "language": "python",
   "name": "python3"
  },
  "language_info": {
   "codemirror_mode": {
    "name": "ipython",
    "version": 3
   },
   "file_extension": ".py",
   "mimetype": "text/x-python",
   "name": "python",
   "nbconvert_exporter": "python",
   "pygments_lexer": "ipython3",
   "version": "3.8.10"
  }
 },
 "nbformat": 4,
 "nbformat_minor": 5
}
